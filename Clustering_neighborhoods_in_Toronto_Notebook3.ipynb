{
 "cells": [
  {
   "cell_type": "markdown",
   "metadata": {},
   "source": [
    "# Segmenting and Clustering Neighborhoods in Toronto"
   ]
  },
  {
   "cell_type": "markdown",
   "metadata": {},
   "source": [
    " *This project includes the scraping a wikipedia page to figureout the postalcodes of Canada, then process and clean the data for clustering.Here clustering is done by K-Means and then all clusters are plotted using a library called Folium*."
   ]
  },
  {
   "cell_type": "markdown",
   "metadata": {},
   "source": [
    "### Importing and Installing all the required Libraries"
   ]
  },
  {
   "cell_type": "code",
   "execution_count": 34,
   "metadata": {},
   "outputs": [],
   "source": [
    "import pandas as pd\n",
    "import numpy as np\n",
    "import requests\n",
    "import random\n",
    "import folium\n",
    "import matplotlib.cm as cm\n",
    "import matplotlib.colors as colors\n",
    "from  geopy.geocoders import Nominatim\n",
    "from IPython.display import Image\n",
    "from IPython.core.display import HTML\n",
    "from IPython.display import display_html\n",
    "from pandas.io.json import json_normalize\n",
    "from bs4 import BeautifulSoup\n",
    "from sklearn.cluster import KMeans"
   ]
  },
  {
   "cell_type": "markdown",
   "metadata": {},
   "source": [
    "## Scraping the webpage for the tabel of postal codes, Canada"
   ]
  },
  {
   "cell_type": "markdown",
   "metadata": {},
   "source": [
    " _Python uses a library called __BeautifulSoup__ for web scraping the table from wikipedia. To check whether the page has been successfully scraped, the title of the webpage is printed and also the table of postalcodes of Canada is printed_."
   ]
  },
  {
   "cell_type": "code",
   "execution_count": 35,
   "metadata": {},
   "outputs": [
    {
     "name": "stdout",
     "output_type": "stream",
     "text": [
      "<title>List of postal codes of Canada: M - Wikipedia</title>\n"
     ]
    }
   ],
   "source": [
    "source = requests.get('https://en.wikipedia.org/wiki/List_of_postal_codes_of_Canada:_M').text\n",
    "soup=BeautifulSoup(source,'lxml')\n",
    "print(soup.title)\n",
    "from IPython.display import display_html\n",
    "tab = str(soup.table)\n",
    "#display_html(tab,raw=True)"
   ]
  },
  {
   "cell_type": "markdown",
   "metadata": {},
   "source": [
    "### Convert HTML table to Pandas DataFrame"
   ]
  },
  {
   "cell_type": "markdown",
   "metadata": {},
   "source": [
    " _For the purpose of cleaning and preprocessing the data we have to convert the HTML table into pandas DataFrame_"
   ]
  },
  {
   "cell_type": "code",
   "execution_count": 36,
   "metadata": {},
   "outputs": [
    {
     "name": "stdout",
     "output_type": "stream",
     "text": [
      "(180, 3)\n"
     ]
    },
    {
     "data": {
      "text/html": [
       "<div>\n",
       "<style scoped>\n",
       "    .dataframe tbody tr th:only-of-type {\n",
       "        vertical-align: middle;\n",
       "    }\n",
       "\n",
       "    .dataframe tbody tr th {\n",
       "        vertical-align: top;\n",
       "    }\n",
       "\n",
       "    .dataframe thead th {\n",
       "        text-align: right;\n",
       "    }\n",
       "</style>\n",
       "<table border=\"1\" class=\"dataframe\">\n",
       "  <thead>\n",
       "    <tr style=\"text-align: right;\">\n",
       "      <th></th>\n",
       "      <th>Postal Code</th>\n",
       "      <th>Borough</th>\n",
       "      <th>Neighborhood</th>\n",
       "    </tr>\n",
       "  </thead>\n",
       "  <tbody>\n",
       "    <tr>\n",
       "      <td>0</td>\n",
       "      <td>M1A</td>\n",
       "      <td>Not assigned</td>\n",
       "      <td>Not assigned</td>\n",
       "    </tr>\n",
       "    <tr>\n",
       "      <td>1</td>\n",
       "      <td>M2A</td>\n",
       "      <td>Not assigned</td>\n",
       "      <td>Not assigned</td>\n",
       "    </tr>\n",
       "    <tr>\n",
       "      <td>2</td>\n",
       "      <td>M3A</td>\n",
       "      <td>North York</td>\n",
       "      <td>Parkwoods</td>\n",
       "    </tr>\n",
       "    <tr>\n",
       "      <td>3</td>\n",
       "      <td>M4A</td>\n",
       "      <td>North York</td>\n",
       "      <td>Victoria Village</td>\n",
       "    </tr>\n",
       "    <tr>\n",
       "      <td>4</td>\n",
       "      <td>M5A</td>\n",
       "      <td>Downtown Toronto</td>\n",
       "      <td>Regent Park, Harbourfront</td>\n",
       "    </tr>\n",
       "  </tbody>\n",
       "</table>\n",
       "</div>"
      ],
      "text/plain": [
       "  Postal Code           Borough               Neighborhood\n",
       "0         M1A      Not assigned               Not assigned\n",
       "1         M2A      Not assigned               Not assigned\n",
       "2         M3A        North York                  Parkwoods\n",
       "3         M4A        North York           Victoria Village\n",
       "4         M5A  Downtown Toronto  Regent Park, Harbourfront"
      ]
     },
     "execution_count": 36,
     "metadata": {},
     "output_type": "execute_result"
    }
   ],
   "source": [
    "canada_data = pd.read_html(tab)\n",
    "canada = canada_data[0]\n",
    "print(canada.shape)\n",
    "canada.head()"
   ]
  },
  {
   "cell_type": "markdown",
   "metadata": {},
   "source": [
    "## Preprocessing and Cleaning the Data"
   ]
  },
  {
   "cell_type": "markdown",
   "metadata": {},
   "source": [
    " *Before Preprocessing the data in the dataframe 'canada', we copy it into another dataframe 'df' using the function __copy()__, and then the 'Not assigned' values are droped using the functions __replace()__ and __dropna()__. If any values in the field 'Neighborhood' are 'Not assigned', they are replaced with the names of 'Borough'.The dimensions of the preprocessed dataframe 'df' are displayed using __shape__*."
   ]
  },
  {
   "cell_type": "code",
   "execution_count": 37,
   "metadata": {},
   "outputs": [
    {
     "name": "stdout",
     "output_type": "stream",
     "text": [
      "  Postal Code           Borough                                 Neighborhood\n",
      "0         M3A        North York                                    Parkwoods\n",
      "1         M4A        North York                             Victoria Village\n",
      "2         M5A  Downtown Toronto                    Regent Park, Harbourfront\n",
      "3         M6A        North York             Lawrence Manor, Lawrence Heights\n",
      "4         M7A  Downtown Toronto  Queen's Park, Ontario Provincial Government\n"
     ]
    },
    {
     "data": {
      "text/plain": [
       "(103, 3)"
      ]
     },
     "execution_count": 37,
     "metadata": {},
     "output_type": "execute_result"
    }
   ],
   "source": [
    "df = canada.copy()\n",
    "\n",
    "# Replace 'Not assigned' to Nan and Drop the 'NaN' values of 'Borough'\n",
    "df.replace(\"Not assigned\", np.NaN, inplace=True)\n",
    "df.dropna(subset = [\"Borough\"], axis = 0, inplace=True)\n",
    "df.reset_index(drop = True ,inplace = True)\n",
    "df['Neighborhood'] = np.where(df['Neighborhood'] == 'Not assigned', df['Borough'], df['Neighborhood'])\n",
    "print(df.head())\n",
    "df.shape"
   ]
  },
  {
   "cell_type": "markdown",
   "metadata": {},
   "source": [
    "## Import the CSV file that contains the coordinates of neighborhoods in Canada."
   ]
  },
  {
   "cell_type": "code",
   "execution_count": 38,
   "metadata": {},
   "outputs": [
    {
     "data": {
      "text/html": [
       "<div>\n",
       "<style scoped>\n",
       "    .dataframe tbody tr th:only-of-type {\n",
       "        vertical-align: middle;\n",
       "    }\n",
       "\n",
       "    .dataframe tbody tr th {\n",
       "        vertical-align: top;\n",
       "    }\n",
       "\n",
       "    .dataframe thead th {\n",
       "        text-align: right;\n",
       "    }\n",
       "</style>\n",
       "<table border=\"1\" class=\"dataframe\">\n",
       "  <thead>\n",
       "    <tr style=\"text-align: right;\">\n",
       "      <th></th>\n",
       "      <th>Postal Code</th>\n",
       "      <th>Latitude</th>\n",
       "      <th>Longitude</th>\n",
       "    </tr>\n",
       "  </thead>\n",
       "  <tbody>\n",
       "    <tr>\n",
       "      <td>0</td>\n",
       "      <td>M1B</td>\n",
       "      <td>43.806686</td>\n",
       "      <td>-79.194353</td>\n",
       "    </tr>\n",
       "    <tr>\n",
       "      <td>1</td>\n",
       "      <td>M1C</td>\n",
       "      <td>43.784535</td>\n",
       "      <td>-79.160497</td>\n",
       "    </tr>\n",
       "    <tr>\n",
       "      <td>2</td>\n",
       "      <td>M1E</td>\n",
       "      <td>43.763573</td>\n",
       "      <td>-79.188711</td>\n",
       "    </tr>\n",
       "    <tr>\n",
       "      <td>3</td>\n",
       "      <td>M1G</td>\n",
       "      <td>43.770992</td>\n",
       "      <td>-79.216917</td>\n",
       "    </tr>\n",
       "    <tr>\n",
       "      <td>4</td>\n",
       "      <td>M1H</td>\n",
       "      <td>43.773136</td>\n",
       "      <td>-79.239476</td>\n",
       "    </tr>\n",
       "  </tbody>\n",
       "</table>\n",
       "</div>"
      ],
      "text/plain": [
       "  Postal Code   Latitude  Longitude\n",
       "0         M1B  43.806686 -79.194353\n",
       "1         M1C  43.784535 -79.160497\n",
       "2         M1E  43.763573 -79.188711\n",
       "3         M1G  43.770992 -79.216917\n",
       "4         M1H  43.773136 -79.239476"
      ]
     },
     "execution_count": 38,
     "metadata": {},
     "output_type": "execute_result"
    }
   ],
   "source": [
    "lat_lon = pd.read_csv('http://cocl.us/Geospatial_data')\n",
    "lat_lon.head()"
   ]
  },
  {
   "cell_type": "markdown",
   "metadata": {},
   "source": [
    "### Merging Tables"
   ]
  },
  {
   "cell_type": "markdown",
   "metadata": {},
   "source": [
    " *For getting the Latitudes and Longitudes for various neighborhoods in Canada we are merging two tables 'df' and 'lat_lon'*. "
   ]
  },
  {
   "cell_type": "code",
   "execution_count": 39,
   "metadata": {},
   "outputs": [
    {
     "data": {
      "text/html": [
       "<div>\n",
       "<style scoped>\n",
       "    .dataframe tbody tr th:only-of-type {\n",
       "        vertical-align: middle;\n",
       "    }\n",
       "\n",
       "    .dataframe tbody tr th {\n",
       "        vertical-align: top;\n",
       "    }\n",
       "\n",
       "    .dataframe thead th {\n",
       "        text-align: right;\n",
       "    }\n",
       "</style>\n",
       "<table border=\"1\" class=\"dataframe\">\n",
       "  <thead>\n",
       "    <tr style=\"text-align: right;\">\n",
       "      <th></th>\n",
       "      <th>Postal Code</th>\n",
       "      <th>Borough</th>\n",
       "      <th>Neighborhood</th>\n",
       "      <th>Latitude</th>\n",
       "      <th>Longitude</th>\n",
       "    </tr>\n",
       "  </thead>\n",
       "  <tbody>\n",
       "    <tr>\n",
       "      <td>0</td>\n",
       "      <td>M3A</td>\n",
       "      <td>North York</td>\n",
       "      <td>Parkwoods</td>\n",
       "      <td>43.753259</td>\n",
       "      <td>-79.329656</td>\n",
       "    </tr>\n",
       "    <tr>\n",
       "      <td>1</td>\n",
       "      <td>M4A</td>\n",
       "      <td>North York</td>\n",
       "      <td>Victoria Village</td>\n",
       "      <td>43.725882</td>\n",
       "      <td>-79.315572</td>\n",
       "    </tr>\n",
       "    <tr>\n",
       "      <td>2</td>\n",
       "      <td>M5A</td>\n",
       "      <td>Downtown Toronto</td>\n",
       "      <td>Regent Park, Harbourfront</td>\n",
       "      <td>43.654260</td>\n",
       "      <td>-79.360636</td>\n",
       "    </tr>\n",
       "    <tr>\n",
       "      <td>3</td>\n",
       "      <td>M6A</td>\n",
       "      <td>North York</td>\n",
       "      <td>Lawrence Manor, Lawrence Heights</td>\n",
       "      <td>43.718518</td>\n",
       "      <td>-79.464763</td>\n",
       "    </tr>\n",
       "    <tr>\n",
       "      <td>4</td>\n",
       "      <td>M7A</td>\n",
       "      <td>Downtown Toronto</td>\n",
       "      <td>Queen's Park, Ontario Provincial Government</td>\n",
       "      <td>43.662301</td>\n",
       "      <td>-79.389494</td>\n",
       "    </tr>\n",
       "  </tbody>\n",
       "</table>\n",
       "</div>"
      ],
      "text/plain": [
       "  Postal Code           Borough                                 Neighborhood  \\\n",
       "0         M3A        North York                                    Parkwoods   \n",
       "1         M4A        North York                             Victoria Village   \n",
       "2         M5A  Downtown Toronto                    Regent Park, Harbourfront   \n",
       "3         M6A        North York             Lawrence Manor, Lawrence Heights   \n",
       "4         M7A  Downtown Toronto  Queen's Park, Ontario Provincial Government   \n",
       "\n",
       "    Latitude  Longitude  \n",
       "0  43.753259 -79.329656  \n",
       "1  43.725882 -79.315572  \n",
       "2  43.654260 -79.360636  \n",
       "3  43.718518 -79.464763  \n",
       "4  43.662301 -79.389494  "
      ]
     },
     "execution_count": 39,
     "metadata": {},
     "output_type": "execute_result"
    }
   ],
   "source": [
    "new_df = pd.merge(df, lat_lon, on= 'Postal Code')\n",
    "new_df.head()"
   ]
  },
  {
   "cell_type": "markdown",
   "metadata": {},
   "source": [
    "##  Clustering and Plotting of neighborhoods of Canada where Toronto is in their Borough"
   ]
  },
  {
   "cell_type": "markdown",
   "metadata": {},
   "source": [
    " *Getting all rows from the dataframe 'new_df' where the field'Borough' has 'Toronto' in it*."
   ]
  },
  {
   "cell_type": "code",
   "execution_count": 40,
   "metadata": {},
   "outputs": [
    {
     "data": {
      "text/html": [
       "<div>\n",
       "<style scoped>\n",
       "    .dataframe tbody tr th:only-of-type {\n",
       "        vertical-align: middle;\n",
       "    }\n",
       "\n",
       "    .dataframe tbody tr th {\n",
       "        vertical-align: top;\n",
       "    }\n",
       "\n",
       "    .dataframe thead th {\n",
       "        text-align: right;\n",
       "    }\n",
       "</style>\n",
       "<table border=\"1\" class=\"dataframe\">\n",
       "  <thead>\n",
       "    <tr style=\"text-align: right;\">\n",
       "      <th></th>\n",
       "      <th>Postal Code</th>\n",
       "      <th>Borough</th>\n",
       "      <th>Neighborhood</th>\n",
       "      <th>Latitude</th>\n",
       "      <th>Longitude</th>\n",
       "    </tr>\n",
       "  </thead>\n",
       "  <tbody>\n",
       "    <tr>\n",
       "      <td>2</td>\n",
       "      <td>M5A</td>\n",
       "      <td>Downtown Toronto</td>\n",
       "      <td>Regent Park, Harbourfront</td>\n",
       "      <td>43.654260</td>\n",
       "      <td>-79.360636</td>\n",
       "    </tr>\n",
       "    <tr>\n",
       "      <td>4</td>\n",
       "      <td>M7A</td>\n",
       "      <td>Downtown Toronto</td>\n",
       "      <td>Queen's Park, Ontario Provincial Government</td>\n",
       "      <td>43.662301</td>\n",
       "      <td>-79.389494</td>\n",
       "    </tr>\n",
       "    <tr>\n",
       "      <td>9</td>\n",
       "      <td>M5B</td>\n",
       "      <td>Downtown Toronto</td>\n",
       "      <td>Garden District, Ryerson</td>\n",
       "      <td>43.657162</td>\n",
       "      <td>-79.378937</td>\n",
       "    </tr>\n",
       "    <tr>\n",
       "      <td>15</td>\n",
       "      <td>M5C</td>\n",
       "      <td>Downtown Toronto</td>\n",
       "      <td>St. James Town</td>\n",
       "      <td>43.651494</td>\n",
       "      <td>-79.375418</td>\n",
       "    </tr>\n",
       "    <tr>\n",
       "      <td>19</td>\n",
       "      <td>M4E</td>\n",
       "      <td>East Toronto</td>\n",
       "      <td>The Beaches</td>\n",
       "      <td>43.676357</td>\n",
       "      <td>-79.293031</td>\n",
       "    </tr>\n",
       "    <tr>\n",
       "      <td>20</td>\n",
       "      <td>M5E</td>\n",
       "      <td>Downtown Toronto</td>\n",
       "      <td>Berczy Park</td>\n",
       "      <td>43.644771</td>\n",
       "      <td>-79.373306</td>\n",
       "    </tr>\n",
       "    <tr>\n",
       "      <td>24</td>\n",
       "      <td>M5G</td>\n",
       "      <td>Downtown Toronto</td>\n",
       "      <td>Central Bay Street</td>\n",
       "      <td>43.657952</td>\n",
       "      <td>-79.387383</td>\n",
       "    </tr>\n",
       "    <tr>\n",
       "      <td>25</td>\n",
       "      <td>M6G</td>\n",
       "      <td>Downtown Toronto</td>\n",
       "      <td>Christie</td>\n",
       "      <td>43.669542</td>\n",
       "      <td>-79.422564</td>\n",
       "    </tr>\n",
       "    <tr>\n",
       "      <td>30</td>\n",
       "      <td>M5H</td>\n",
       "      <td>Downtown Toronto</td>\n",
       "      <td>Richmond, Adelaide, King</td>\n",
       "      <td>43.650571</td>\n",
       "      <td>-79.384568</td>\n",
       "    </tr>\n",
       "    <tr>\n",
       "      <td>31</td>\n",
       "      <td>M6H</td>\n",
       "      <td>West Toronto</td>\n",
       "      <td>Dufferin, Dovercourt Village</td>\n",
       "      <td>43.669005</td>\n",
       "      <td>-79.442259</td>\n",
       "    </tr>\n",
       "  </tbody>\n",
       "</table>\n",
       "</div>"
      ],
      "text/plain": [
       "   Postal Code           Borough                                 Neighborhood  \\\n",
       "2          M5A  Downtown Toronto                    Regent Park, Harbourfront   \n",
       "4          M7A  Downtown Toronto  Queen's Park, Ontario Provincial Government   \n",
       "9          M5B  Downtown Toronto                     Garden District, Ryerson   \n",
       "15         M5C  Downtown Toronto                               St. James Town   \n",
       "19         M4E      East Toronto                                  The Beaches   \n",
       "20         M5E  Downtown Toronto                                  Berczy Park   \n",
       "24         M5G  Downtown Toronto                           Central Bay Street   \n",
       "25         M6G  Downtown Toronto                                     Christie   \n",
       "30         M5H  Downtown Toronto                     Richmond, Adelaide, King   \n",
       "31         M6H      West Toronto                 Dufferin, Dovercourt Village   \n",
       "\n",
       "     Latitude  Longitude  \n",
       "2   43.654260 -79.360636  \n",
       "4   43.662301 -79.389494  \n",
       "9   43.657162 -79.378937  \n",
       "15  43.651494 -79.375418  \n",
       "19  43.676357 -79.293031  \n",
       "20  43.644771 -79.373306  \n",
       "24  43.657952 -79.387383  \n",
       "25  43.669542 -79.422564  \n",
       "30  43.650571 -79.384568  \n",
       "31  43.669005 -79.442259  "
      ]
     },
     "execution_count": 40,
     "metadata": {},
     "output_type": "execute_result"
    }
   ],
   "source": [
    "Toronto = new_df[new_df['Borough' ].str.contains('Toronto', regex = False)]\n",
    "Toronto.head(10)"
   ]
  },
  {
   "cell_type": "markdown",
   "metadata": {},
   "source": [
    " ### Visualizing the Neighborhoods of the DataFrame 'Toronto'."
   ]
  },
  {
   "cell_type": "markdown",
   "metadata": {},
   "source": [
    " *By using the library __Folium__ all the neighborhood of 'Toronto' has been Visualized*."
   ]
  },
  {
   "cell_type": "code",
   "execution_count": 41,
   "metadata": {},
   "outputs": [
    {
     "name": "stdout",
     "output_type": "stream",
     "text": [
      "The geograpical coordinate of Toronto are 43.6534817, -79.3839347.\n"
     ]
    }
   ],
   "source": [
    "address = 'Toronto, Canada'\n",
    "\n",
    "geolocator = Nominatim(user_agent=\"ny_explorer\")\n",
    "location = geolocator.geocode(address)\n",
    "latitude = location.latitude\n",
    "longitude = location.longitude\n",
    "print('The geograpical coordinate of Toronto are {}, {}.'.format(latitude, longitude))"
   ]
  },
  {
   "cell_type": "code",
   "execution_count": 42,
   "metadata": {},
   "outputs": [
    {
     "data": {
      "text/html": [
       "<div style=\"width:100%;\"><div style=\"position:relative;width:100%;height:0;padding-bottom:60%;\"><span style=\"color:#565656\">Make this Notebook Trusted to load map: File -> Trust Notebook</span><iframe src=\"about:blank\" style=\"position:absolute;width:100%;height:100%;left:0;top:0;border:none !important;\" data-html=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 onload=\"this.contentDocument.open();this.contentDocument.write(atob(this.getAttribute('data-html')));this.contentDocument.close();\" allowfullscreen webkitallowfullscreen mozallowfullscreen></iframe></div></div>"
      ],
      "text/plain": [
       "<folium.folium.Map at 0x1a1a159bd0>"
      ]
     },
     "execution_count": 42,
     "metadata": {},
     "output_type": "execute_result"
    }
   ],
   "source": [
    "# Using Latitude and Longitude values,Toronto map is created \n",
    "map_Toronto = folium.Map(location = [latitude, longitude], zoom_start = 11)\n",
    "\n",
    "# add markers to map\n",
    "for lat,lng,borough,neighborhood in zip(Toronto['Latitude'], Toronto['Longitude'], Toronto['Borough'], Toronto['Neighborhood']):\n",
    "    label = '{}, {}'.format(neighborhood, borough)\n",
    "    label = folium.Popup(label, parse_html = True)\n",
    "    folium.CircleMarker(\n",
    "    [lat,lng],\n",
    "    radius=5,\n",
    "    popup=label,\n",
    "    color='green',\n",
    "    fill=True,\n",
    "    fill_color='#3186cc',\n",
    "    fill_opacity=0.7,\n",
    "    parse_html=False).add_to(map_Toronto)\n",
    "map_Toronto"
   ]
  },
  {
   "cell_type": "markdown",
   "metadata": {},
   "source": [
    "## Clustering of Neighborhoods"
   ]
  },
  {
   "cell_type": "markdown",
   "metadata": {},
   "source": [
    " *For Clustering the neighborhoods __KMeans__ Clustering is used*."
   ]
  },
  {
   "cell_type": "code",
   "execution_count": 45,
   "metadata": {},
   "outputs": [],
   "source": [
    "k=5\n",
    "toronto_clustering = Toronto.drop(['Postal Code','Borough','Neighborhood'],1)\n",
    "kmeans = KMeans(n_clusters = k,random_state=0).fit(toronto_clustering)\n",
    "kmeans.labels_\n",
    "Toronto.insert(0, 'Cluster Labels', kmeans.labels_)\n"
   ]
  },
  {
   "cell_type": "code",
   "execution_count": 50,
   "metadata": {},
   "outputs": [
    {
     "data": {
      "text/html": [
       "<div>\n",
       "<style scoped>\n",
       "    .dataframe tbody tr th:only-of-type {\n",
       "        vertical-align: middle;\n",
       "    }\n",
       "\n",
       "    .dataframe tbody tr th {\n",
       "        vertical-align: top;\n",
       "    }\n",
       "\n",
       "    .dataframe thead th {\n",
       "        text-align: right;\n",
       "    }\n",
       "</style>\n",
       "<table border=\"1\" class=\"dataframe\">\n",
       "  <thead>\n",
       "    <tr style=\"text-align: right;\">\n",
       "      <th></th>\n",
       "      <th>Cluster Labels</th>\n",
       "      <th>Postal Code</th>\n",
       "      <th>Borough</th>\n",
       "      <th>Neighborhood</th>\n",
       "      <th>Latitude</th>\n",
       "      <th>Longitude</th>\n",
       "    </tr>\n",
       "  </thead>\n",
       "  <tbody>\n",
       "    <tr>\n",
       "      <td>2</td>\n",
       "      <td>0</td>\n",
       "      <td>M5A</td>\n",
       "      <td>Downtown Toronto</td>\n",
       "      <td>Regent Park, Harbourfront</td>\n",
       "      <td>43.654260</td>\n",
       "      <td>-79.360636</td>\n",
       "    </tr>\n",
       "    <tr>\n",
       "      <td>4</td>\n",
       "      <td>0</td>\n",
       "      <td>M7A</td>\n",
       "      <td>Downtown Toronto</td>\n",
       "      <td>Queen's Park, Ontario Provincial Government</td>\n",
       "      <td>43.662301</td>\n",
       "      <td>-79.389494</td>\n",
       "    </tr>\n",
       "    <tr>\n",
       "      <td>9</td>\n",
       "      <td>0</td>\n",
       "      <td>M5B</td>\n",
       "      <td>Downtown Toronto</td>\n",
       "      <td>Garden District, Ryerson</td>\n",
       "      <td>43.657162</td>\n",
       "      <td>-79.378937</td>\n",
       "    </tr>\n",
       "    <tr>\n",
       "      <td>15</td>\n",
       "      <td>0</td>\n",
       "      <td>M5C</td>\n",
       "      <td>Downtown Toronto</td>\n",
       "      <td>St. James Town</td>\n",
       "      <td>43.651494</td>\n",
       "      <td>-79.375418</td>\n",
       "    </tr>\n",
       "    <tr>\n",
       "      <td>19</td>\n",
       "      <td>4</td>\n",
       "      <td>M4E</td>\n",
       "      <td>East Toronto</td>\n",
       "      <td>The Beaches</td>\n",
       "      <td>43.676357</td>\n",
       "      <td>-79.293031</td>\n",
       "    </tr>\n",
       "    <tr>\n",
       "      <td>20</td>\n",
       "      <td>0</td>\n",
       "      <td>M5E</td>\n",
       "      <td>Downtown Toronto</td>\n",
       "      <td>Berczy Park</td>\n",
       "      <td>43.644771</td>\n",
       "      <td>-79.373306</td>\n",
       "    </tr>\n",
       "    <tr>\n",
       "      <td>24</td>\n",
       "      <td>0</td>\n",
       "      <td>M5G</td>\n",
       "      <td>Downtown Toronto</td>\n",
       "      <td>Central Bay Street</td>\n",
       "      <td>43.657952</td>\n",
       "      <td>-79.387383</td>\n",
       "    </tr>\n",
       "    <tr>\n",
       "      <td>25</td>\n",
       "      <td>3</td>\n",
       "      <td>M6G</td>\n",
       "      <td>Downtown Toronto</td>\n",
       "      <td>Christie</td>\n",
       "      <td>43.669542</td>\n",
       "      <td>-79.422564</td>\n",
       "    </tr>\n",
       "    <tr>\n",
       "      <td>30</td>\n",
       "      <td>0</td>\n",
       "      <td>M5H</td>\n",
       "      <td>Downtown Toronto</td>\n",
       "      <td>Richmond, Adelaide, King</td>\n",
       "      <td>43.650571</td>\n",
       "      <td>-79.384568</td>\n",
       "    </tr>\n",
       "    <tr>\n",
       "      <td>31</td>\n",
       "      <td>1</td>\n",
       "      <td>M6H</td>\n",
       "      <td>West Toronto</td>\n",
       "      <td>Dufferin, Dovercourt Village</td>\n",
       "      <td>43.669005</td>\n",
       "      <td>-79.442259</td>\n",
       "    </tr>\n",
       "  </tbody>\n",
       "</table>\n",
       "</div>"
      ],
      "text/plain": [
       "    Cluster Labels Postal Code           Borough  \\\n",
       "2                0         M5A  Downtown Toronto   \n",
       "4                0         M7A  Downtown Toronto   \n",
       "9                0         M5B  Downtown Toronto   \n",
       "15               0         M5C  Downtown Toronto   \n",
       "19               4         M4E      East Toronto   \n",
       "20               0         M5E  Downtown Toronto   \n",
       "24               0         M5G  Downtown Toronto   \n",
       "25               3         M6G  Downtown Toronto   \n",
       "30               0         M5H  Downtown Toronto   \n",
       "31               1         M6H      West Toronto   \n",
       "\n",
       "                                   Neighborhood   Latitude  Longitude  \n",
       "2                     Regent Park, Harbourfront  43.654260 -79.360636  \n",
       "4   Queen's Park, Ontario Provincial Government  43.662301 -79.389494  \n",
       "9                      Garden District, Ryerson  43.657162 -79.378937  \n",
       "15                               St. James Town  43.651494 -79.375418  \n",
       "19                                  The Beaches  43.676357 -79.293031  \n",
       "20                                  Berczy Park  43.644771 -79.373306  \n",
       "24                           Central Bay Street  43.657952 -79.387383  \n",
       "25                                     Christie  43.669542 -79.422564  \n",
       "30                     Richmond, Adelaide, King  43.650571 -79.384568  \n",
       "31                 Dufferin, Dovercourt Village  43.669005 -79.442259  "
      ]
     },
     "execution_count": 50,
     "metadata": {},
     "output_type": "execute_result"
    }
   ],
   "source": [
    "Toronto.head(10)"
   ]
  },
  {
   "cell_type": "code",
   "execution_count": 51,
   "metadata": {},
   "outputs": [
    {
     "data": {
      "text/html": [
       "<div style=\"width:100%;\"><div style=\"position:relative;width:100%;height:0;padding-bottom:60%;\"><span style=\"color:#565656\">Make this Notebook Trusted to load map: File -> Trust Notebook</span><iframe src=\"about:blank\" style=\"position:absolute;width:100%;height:100%;left:0;top:0;border:none !important;\" data-html=PCFET0NUWVBFIGh0bWw+CjxoZWFkPiAgICAKICAgIDxtZXRhIGh0dHAtZXF1aXY9ImNvbnRlbnQtdHlwZSIgY29udGVudD0idGV4dC9odG1sOyBjaGFyc2V0PVVURi04IiAvPgogICAgCiAgICAgICAgPHNjcmlwdD4KICAgICAgICAgICAgTF9OT19UT1VDSCA9IGZhbHNlOwogICAgICAgICAgICBMX0RJU0FCTEVfM0QgPSBmYWxzZTsKICAgICAgICA8L3NjcmlwdD4KICAgIAogICAgPHNjcmlwdCBzcmM9Imh0dHBzOi8vY2RuLmpzZGVsaXZyLm5ldC9ucG0vbGVhZmxldEAxLjYuMC9kaXN0L2xlYWZsZXQuanMiPjwvc2NyaXB0PgogICAgPHNjcmlwdCBzcmM9Imh0dHBzOi8vY29kZS5qcXVlcnkuY29tL2pxdWVyeS0xLjEyLjQubWluLmpzIj48L3NjcmlwdD4KICAgIDxzY3JpcHQgc3JjPSJodHRwczovL21heGNkbi5ib290c3RyYXBjZG4uY29tL2Jvb3RzdHJhcC8zLjIuMC9qcy9ib290c3RyYXAubWluLmpzIj48L3NjcmlwdD4KICAgIDxzY3JpcHQgc3JjPSJodHRwczovL2NkbmpzLmNsb3VkZmxhcmUuY29tL2FqYXgvbGlicy9MZWFmbGV0LmF3ZXNvbWUtbWFya2Vycy8yLjAuMi9sZWFmbGV0LmF3ZXNvbWUtbWFya2Vycy5qcyI+PC9zY3JpcHQ+CiAgICA8bGluayByZWw9InN0eWxlc2hlZXQiIGhyZWY9Imh0dHBzOi8vY2RuLmpzZGVsaXZyLm5ldC9ucG0vbGVhZmxldEAxLjYuMC9kaXN0L2xlYWZsZXQuY3NzIi8+CiAgICA8bGluayByZWw9InN0eWxlc2hlZXQiIGhyZWY9Imh0dHBzOi8vbWF4Y2RuLmJvb3RzdHJhcGNkbi5jb20vYm9vdHN0cmFwLzMuMi4wL2Nzcy9ib290c3RyYXAubWluLmNzcyIvPgogICAgPGxpbmsgcmVsPSJzdHlsZXNoZWV0IiBocmVmPSJodHRwczovL21heGNkbi5ib290c3RyYXBjZG4uY29tL2Jvb3RzdHJhcC8zLjIuMC9jc3MvYm9vdHN0cmFwLXRoZW1lLm1pbi5jc3MiLz4KICAgIDxsaW5rIHJlbD0ic3R5bGVzaGVldCIgaHJlZj0iaHR0cHM6Ly9tYXhjZG4uYm9vdHN0cmFwY2RuLmNvbS9mb250LWF3ZXNvbWUvNC42LjMvY3NzL2ZvbnQtYXdlc29tZS5taW4uY3NzIi8+CiAgICA8bGluayByZWw9InN0eWxlc2hlZXQiIGhyZWY9Imh0dHBzOi8vY2RuanMuY2xvdWRmbGFyZS5jb20vYWpheC9saWJzL0xlYWZsZXQuYXdlc29tZS1tYXJrZXJzLzIuMC4yL2xlYWZsZXQuYXdlc29tZS1tYXJrZXJzLmNzcyIvPgogICAgPGxpbmsgcmVsPSJzdHlsZXNoZWV0IiBocmVmPSJodHRwczovL3Jhd2Nkbi5naXRoYWNrLmNvbS9weXRob24tdmlzdWFsaXphdGlvbi9mb2xpdW0vbWFzdGVyL2ZvbGl1bS90ZW1wbGF0ZXMvbGVhZmxldC5hd2Vzb21lLnJvdGF0ZS5jc3MiLz4KICAgIDxzdHlsZT5odG1sLCBib2R5IHt3aWR0aDogMTAwJTtoZWlnaHQ6IDEwMCU7bWFyZ2luOiAwO3BhZGRpbmc6IDA7fTwvc3R5bGU+CiAgICA8c3R5bGU+I21hcCB7cG9zaXRpb246YWJzb2x1dGU7dG9wOjA7Ym90dG9tOjA7cmlnaHQ6MDtsZWZ0OjA7fTwvc3R5bGU+CiAgICAKICAgICAgICAgICAgPG1ldGEgbmFtZT0idmlld3BvcnQiIGNvbnRlbnQ9IndpZHRoPWRldmljZS13aWR0aCwKICAgICAgICAgICAgICAgIGluaXRpYWwtc2NhbGU9MS4wLCBtYXhpbXVtLXNjYWxlPTEuMCwgdXNlci1zY2FsYWJsZT1ubyIgLz4KICAgICAgICAgICAgPHN0eWxlPgogICAgICAgICAgICAgICAgI21hcF9kZjZkMDA2Njc5NGM0ZTJjYThhMWVkZDZlNDEwN2U0YSB7CiAgICAgICAgICAgICAgICAgICAgcG9zaXRpb246IHJlbGF0aXZlOwogICAgICAgICAgICAgICAgICAgIHdpZHRoOiAxMDAuMCU7CiAgICAgICAgICAgICAgICAgICAgaGVpZ2h0OiAxMDAuMCU7CiAgICAgICAgICAgICAgICAgICAgbGVmdDogMC4wJTsKICAgICAgICAgICAgICAgICAgICB0b3A6IDAuMCU7CiAgICAgICAgICAgICAgICB9CiAgICAgICAgICAgIDwvc3R5bGU+CiAgICAgICAgCjwvaGVhZD4KPGJvZHk+ICAgIAogICAgCiAgICAgICAgICAgIDxkaXYgY2xhc3M9ImZvbGl1bS1tYXAiIGlkPSJtYXBfZGY2ZDAwNjY3OTRjNGUyY2E4YTFlZGQ2ZTQxMDdlNGEiID48L2Rpdj4KICAgICAgICAKPC9ib2R5Pgo8c2NyaXB0PiAgICAKICAgIAogICAgICAgICAgICB2YXIgbWFwX2RmNmQwMDY2Nzk0YzRlMmNhOGExZWRkNmU0MTA3ZTRhID0gTC5tYXAoCiAgICAgICAgICAgICAgICAibWFwX2RmNmQwMDY2Nzk0YzRlMmNhOGExZWRkNmU0MTA3ZTRhIiwKICAgICAgICAgICAgICAgIHsKICAgICAgICAgICAgICAgICAgICBjZW50ZXI6IFs0My42NTM0ODE3LCAtNzkuMzgzOTM0N10sCiAgICAgICAgICAgICAgICAgICAgY3JzOiBMLkNSUy5FUFNHMzg1NywKICAgICAgICAgICAgICAgICAgICB6b29tOiAxMCwKICAgICAgICAgICAgICAgICAgICB6b29tQ29udHJvbDogdHJ1ZSwKICAgICAgICAgICAgICAgICAgICBwcmVmZXJDYW52YXM6IGZhbHNlLAogICAgICAgICAgICAgICAgfQogICAgICAgICAgICApOwoKICAgICAgICAgICAgCgogICAgICAgIAogICAgCiAgICAgICAgICAgIHZhciB0aWxlX2xheWVyX2E2Nzc3NjFhZTc3NjRhZGNhNTlhMDA4ZTQwNzRiNjE2ID0gTC50aWxlTGF5ZXIoCiAgICAgICAgICAgICAgICAiaHR0cHM6Ly97c30udGlsZS5vcGVuc3RyZWV0bWFwLm9yZy97en0ve3h9L3t5fS5wbmciLAogICAgICAgICAgICAgICAgeyJhdHRyaWJ1dGlvbiI6ICJEYXRhIGJ5IFx1MDAyNmNvcHk7IFx1MDAzY2EgaHJlZj1cImh0dHA6Ly9vcGVuc3RyZWV0bWFwLm9yZ1wiXHUwMDNlT3BlblN0cmVldE1hcFx1MDAzYy9hXHUwMDNlLCB1bmRlciBcdTAwM2NhIGhyZWY9XCJodHRwOi8vd3d3Lm9wZW5zdHJlZXRtYXAub3JnL2NvcHlyaWdodFwiXHUwMDNlT0RiTFx1MDAzYy9hXHUwMDNlLiIsICJkZXRlY3RSZXRpbmEiOiBmYWxzZSwgIm1heE5hdGl2ZVpvb20iOiAxOCwgIm1heFpvb20iOiAxOCwgIm1pblpvb20iOiAwLCAibm9XcmFwIjogZmFsc2UsICJvcGFjaXR5IjogMSwgInN1YmRvbWFpbnMiOiAiYWJjIiwgInRtcyI6IGZhbHNlfQogICAgICAgICAgICApLmFkZFRvKG1hcF9kZjZkMDA2Njc5NGM0ZTJjYThhMWVkZDZlNDEwN2U0YSk7CiAgICAgICAgCiAgICAKICAgICAgICAgICAgdmFyIGNpcmNsZV9tYXJrZXJfMjE2YjlmZGVmM2Q3NDAyNDg5ZjJiYTVhNTI3ODIwZDYgPSBMLmNpcmNsZU1hcmtlcigKICAgICAgICAgICAgICAgIFs0My42NTQyNTk5LCAtNzkuMzYwNjM1OV0sCiAgICAgICAgICAgICAgICB7ImJ1YmJsaW5nTW91c2VFdmVudHMiOiB0cnVlLCAiY29sb3IiOiAiI2ZmMDAwMCIsICJkYXNoQXJyYXkiOiBudWxsLCAiZGFzaE9mZnNldCI6IG51bGwsICJmaWxsIjogdHJ1ZSwgImZpbGxDb2xvciI6ICIjZmYwMDAwIiwgImZpbGxPcGFjaXR5IjogMC43LCAiZmlsbFJ1bGUiOiAiZXZlbm9kZCIsICJsaW5lQ2FwIjogInJvdW5kIiwgImxpbmVKb2luIjogInJvdW5kIiwgIm9wYWNpdHkiOiAxLjAsICJyYWRpdXMiOiA1LCAic3Ryb2tlIjogdHJ1ZSwgIndlaWdodCI6IDN9CiAgICAgICAgICAgICkuYWRkVG8obWFwX2RmNmQwMDY2Nzk0YzRlMmNhOGExZWRkNmU0MTA3ZTRhKTsKICAgICAgICAKICAgIAogICAgICAgIHZhciBwb3B1cF8xN2JkY2EwZTk0OWM0YzU5YThkMmY5NmZlN2IzOGUyZCA9IEwucG9wdXAoeyJtYXhXaWR0aCI6ICIxMDAlIn0pOwoKICAgICAgICAKICAgICAgICAgICAgdmFyIGh0bWxfNDE1OGQwNGZkMjliNDdhN2E2MDZiYmEyNGNlNzkyN2UgPSAkKGA8ZGl2IGlkPSJodG1sXzQxNThkMDRmZDI5YjQ3YTdhNjA2YmJhMjRjZTc5MjdlIiBzdHlsZT0id2lkdGg6IDEwMC4wJTsgaGVpZ2h0OiAxMDAuMCU7Ij4gQ2x1c3RlciAwPC9kaXY+YClbMF07CiAgICAgICAgICAgIHBvcHVwXzE3YmRjYTBlOTQ5YzRjNTlhOGQyZjk2ZmU3YjM4ZTJkLnNldENvbnRlbnQoaHRtbF80MTU4ZDA0ZmQyOWI0N2E3YTYwNmJiYTI0Y2U3OTI3ZSk7CiAgICAgICAgCgogICAgICAgIGNpcmNsZV9tYXJrZXJfMjE2YjlmZGVmM2Q3NDAyNDg5ZjJiYTVhNTI3ODIwZDYuYmluZFBvcHVwKHBvcHVwXzE3YmRjYTBlOTQ5YzRjNTlhOGQyZjk2ZmU3YjM4ZTJkKQogICAgICAgIDsKCiAgICAgICAgCiAgICAKICAgIAogICAgICAgICAgICB2YXIgY2lyY2xlX21hcmtlcl9mZjY3MzAwMzA0Mzk0MGY4ODdhN2EwZjM4OTViNjc4YyA9IEwuY2lyY2xlTWFya2VyKAogICAgICAgICAgICAgICAgWzQzLjY2MjMwMTUsIC03OS4zODk0OTM4XSwKICAgICAgICAgICAgICAgIHsiYnViYmxpbmdNb3VzZUV2ZW50cyI6IHRydWUsICJjb2xvciI6ICIjZmYwMDAwIiwgImRhc2hBcnJheSI6IG51bGwsICJkYXNoT2Zmc2V0IjogbnVsbCwgImZpbGwiOiB0cnVlLCAiZmlsbENvbG9yIjogIiNmZjAwMDAiLCAiZmlsbE9wYWNpdHkiOiAwLjcsICJmaWxsUnVsZSI6ICJldmVub2RkIiwgImxpbmVDYXAiOiAicm91bmQiLCAibGluZUpvaW4iOiAicm91bmQiLCAib3BhY2l0eSI6IDEuMCwgInJhZGl1cyI6IDUsICJzdHJva2UiOiB0cnVlLCAid2VpZ2h0IjogM30KICAgICAgICAgICAgKS5hZGRUbyhtYXBfZGY2ZDAwNjY3OTRjNGUyY2E4YTFlZGQ2ZTQxMDdlNGEpOwogICAgICAgIAogICAgCiAgICAgICAgdmFyIHBvcHVwXzA4YjAxNTA4MWUxYzQ5NWVhMjQwMTIxNGM3NWIyNzI2ID0gTC5wb3B1cCh7Im1heFdpZHRoIjogIjEwMCUifSk7CgogICAgICAgIAogICAgICAgICAgICB2YXIgaHRtbF9mN2FiMzY3ZTJjNjY0ODIwOTc2MTg1MjI0MjhlODExNyA9ICQoYDxkaXYgaWQ9Imh0bWxfZjdhYjM2N2UyYzY2NDgyMDk3NjE4NTIyNDI4ZTgxMTciIHN0eWxlPSJ3aWR0aDogMTAwLjAlOyBoZWlnaHQ6IDEwMC4wJTsiPiBDbHVzdGVyIDA8L2Rpdj5gKVswXTsKICAgICAgICAgICAgcG9wdXBfMDhiMDE1MDgxZTFjNDk1ZWEyNDAxMjE0Yzc1YjI3MjYuc2V0Q29udGVudChodG1sX2Y3YWIzNjdlMmM2NjQ4MjA5NzYxODUyMjQyOGU4MTE3KTsKICAgICAgICAKCiAgICAgICAgY2lyY2xlX21hcmtlcl9mZjY3MzAwMzA0Mzk0MGY4ODdhN2EwZjM4OTViNjc4Yy5iaW5kUG9wdXAocG9wdXBfMDhiMDE1MDgxZTFjNDk1ZWEyNDAxMjE0Yzc1YjI3MjYpCiAgICAgICAgOwoKICAgICAgICAKICAgIAogICAgCiAgICAgICAgICAgIHZhciBjaXJjbGVfbWFya2VyXzAwMGM0YTNkMjAxZDQ0MmRhZDM3NDY4MGZjNWRiMTA1ID0gTC5jaXJjbGVNYXJrZXIoCiAgICAgICAgICAgICAgICBbNDMuNjU3MTYxOCwgLTc5LjM3ODkzNzA5OTk5OTk5XSwKICAgICAgICAgICAgICAgIHsiYnViYmxpbmdNb3VzZUV2ZW50cyI6IHRydWUsICJjb2xvciI6ICIjZmYwMDAwIiwgImRhc2hBcnJheSI6IG51bGwsICJkYXNoT2Zmc2V0IjogbnVsbCwgImZpbGwiOiB0cnVlLCAiZmlsbENvbG9yIjogIiNmZjAwMDAiLCAiZmlsbE9wYWNpdHkiOiAwLjcsICJmaWxsUnVsZSI6ICJldmVub2RkIiwgImxpbmVDYXAiOiAicm91bmQiLCAibGluZUpvaW4iOiAicm91bmQiLCAib3BhY2l0eSI6IDEuMCwgInJhZGl1cyI6IDUsICJzdHJva2UiOiB0cnVlLCAid2VpZ2h0IjogM30KICAgICAgICAgICAgKS5hZGRUbyhtYXBfZGY2ZDAwNjY3OTRjNGUyY2E4YTFlZGQ2ZTQxMDdlNGEpOwogICAgICAgIAogICAgCiAgICAgICAgdmFyIHBvcHVwX2Y1NzE2NGUzY2FhNjQxODViNzkyOWU3MzJiMWEzYTBmID0gTC5wb3B1cCh7Im1heFdpZHRoIjogIjEwMCUifSk7CgogICAgICAgIAogICAgICAgICAgICB2YXIgaHRtbF8zNjYxMjQzYTY0YTU0MzIxYjVhYTNiNTkzNzM5ZmMxNiA9ICQoYDxkaXYgaWQ9Imh0bWxfMzY2MTI0M2E2NGE1NDMyMWI1YWEzYjU5MzczOWZjMTYiIHN0eWxlPSJ3aWR0aDogMTAwLjAlOyBoZWlnaHQ6IDEwMC4wJTsiPiBDbHVzdGVyIDA8L2Rpdj5gKVswXTsKICAgICAgICAgICAgcG9wdXBfZjU3MTY0ZTNjYWE2NDE4NWI3OTI5ZTczMmIxYTNhMGYuc2V0Q29udGVudChodG1sXzM2NjEyNDNhNjRhNTQzMjFiNWFhM2I1OTM3MzlmYzE2KTsKICAgICAgICAKCiAgICAgICAgY2lyY2xlX21hcmtlcl8wMDBjNGEzZDIwMWQ0NDJkYWQzNzQ2ODBmYzVkYjEwNS5iaW5kUG9wdXAocG9wdXBfZjU3MTY0ZTNjYWE2NDE4NWI3OTI5ZTczMmIxYTNhMGYpCiAgICAgICAgOwoKICAgICAgICAKICAgIAogICAgCiAgICAgICAgICAgIHZhciBjaXJjbGVfbWFya2VyXzE3OGJjNzQ3OTQ3ZjQ4Y2Q4MmQzZDE1MWE3NzYyNWE4ID0gTC5jaXJjbGVNYXJrZXIoCiAgICAgICAgICAgICAgICBbNDMuNjUxNDkzOSwgLTc5LjM3NTQxNzldLAogICAgICAgICAgICAgICAgeyJidWJibGluZ01vdXNlRXZlbnRzIjogdHJ1ZSwgImNvbG9yIjogIiNmZjAwMDAiLCAiZGFzaEFycmF5IjogbnVsbCwgImRhc2hPZmZzZXQiOiBudWxsLCAiZmlsbCI6IHRydWUsICJmaWxsQ29sb3IiOiAiI2ZmMDAwMCIsICJmaWxsT3BhY2l0eSI6IDAuNywgImZpbGxSdWxlIjogImV2ZW5vZGQiLCAibGluZUNhcCI6ICJyb3VuZCIsICJsaW5lSm9pbiI6ICJyb3VuZCIsICJvcGFjaXR5IjogMS4wLCAicmFkaXVzIjogNSwgInN0cm9rZSI6IHRydWUsICJ3ZWlnaHQiOiAzfQogICAgICAgICAgICApLmFkZFRvKG1hcF9kZjZkMDA2Njc5NGM0ZTJjYThhMWVkZDZlNDEwN2U0YSk7CiAgICAgICAgCiAgICAKICAgICAgICB2YXIgcG9wdXBfYjhiNzE0ODg1NjUxNGNiYTgyNjlmYTVkMThjOTBjZTAgPSBMLnBvcHVwKHsibWF4V2lkdGgiOiAiMTAwJSJ9KTsKCiAgICAgICAgCiAgICAgICAgICAgIHZhciBodG1sXzUzOWM4NzM4M2MxMDQ2YzFhZWY1NjcyYmFkMTlmODdhID0gJChgPGRpdiBpZD0iaHRtbF81MzljODczODNjMTA0NmMxYWVmNTY3MmJhZDE5Zjg3YSIgc3R5bGU9IndpZHRoOiAxMDAuMCU7IGhlaWdodDogMTAwLjAlOyI+IENsdXN0ZXIgMDwvZGl2PmApWzBdOwogICAgICAgICAgICBwb3B1cF9iOGI3MTQ4ODU2NTE0Y2JhODI2OWZhNWQxOGM5MGNlMC5zZXRDb250ZW50KGh0bWxfNTM5Yzg3MzgzYzEwNDZjMWFlZjU2NzJiYWQxOWY4N2EpOwogICAgICAgIAoKICAgICAgICBjaXJjbGVfbWFya2VyXzE3OGJjNzQ3OTQ3ZjQ4Y2Q4MmQzZDE1MWE3NzYyNWE4LmJpbmRQb3B1cChwb3B1cF9iOGI3MTQ4ODU2NTE0Y2JhODI2OWZhNWQxOGM5MGNlMCkKICAgICAgICA7CgogICAgICAgIAogICAgCiAgICAKICAgICAgICAgICAgdmFyIGNpcmNsZV9tYXJrZXJfODUxYTU2YTE5YTc2NGRhMGI0Zjc3YzdmZTFkYTdkOTIgPSBMLmNpcmNsZU1hcmtlcigKICAgICAgICAgICAgICAgIFs0My42NzYzNTczOTk5OTk5OSwgLTc5LjI5MzAzMTJdLAogICAgICAgICAgICAgICAgeyJidWJibGluZ01vdXNlRXZlbnRzIjogdHJ1ZSwgImNvbG9yIjogIiNmZmIzNjAiLCAiZGFzaEFycmF5IjogbnVsbCwgImRhc2hPZmZzZXQiOiBudWxsLCAiZmlsbCI6IHRydWUsICJmaWxsQ29sb3IiOiAiI2ZmYjM2MCIsICJmaWxsT3BhY2l0eSI6IDAuNywgImZpbGxSdWxlIjogImV2ZW5vZGQiLCAibGluZUNhcCI6ICJyb3VuZCIsICJsaW5lSm9pbiI6ICJyb3VuZCIsICJvcGFjaXR5IjogMS4wLCAicmFkaXVzIjogNSwgInN0cm9rZSI6IHRydWUsICJ3ZWlnaHQiOiAzfQogICAgICAgICAgICApLmFkZFRvKG1hcF9kZjZkMDA2Njc5NGM0ZTJjYThhMWVkZDZlNDEwN2U0YSk7CiAgICAgICAgCiAgICAKICAgICAgICB2YXIgcG9wdXBfM2UyMzgyODJlYzQ1NDUwOWFhZmNkNjIwNTE1NWJjZmMgPSBMLnBvcHVwKHsibWF4V2lkdGgiOiAiMTAwJSJ9KTsKCiAgICAgICAgCiAgICAgICAgICAgIHZhciBodG1sX2UwNDhiMTdmNjc2NzQyMzRhMjRlOGZjNWI3MDQ1OTA5ID0gJChgPGRpdiBpZD0iaHRtbF9lMDQ4YjE3ZjY3Njc0MjM0YTI0ZThmYzViNzA0NTkwOSIgc3R5bGU9IndpZHRoOiAxMDAuMCU7IGhlaWdodDogMTAwLjAlOyI+IENsdXN0ZXIgNDwvZGl2PmApWzBdOwogICAgICAgICAgICBwb3B1cF8zZTIzODI4MmVjNDU0NTA5YWFmY2Q2MjA1MTU1YmNmYy5zZXRDb250ZW50KGh0bWxfZTA0OGIxN2Y2NzY3NDIzNGEyNGU4ZmM1YjcwNDU5MDkpOwogICAgICAgIAoKICAgICAgICBjaXJjbGVfbWFya2VyXzg1MWE1NmExOWE3NjRkYTBiNGY3N2M3ZmUxZGE3ZDkyLmJpbmRQb3B1cChwb3B1cF8zZTIzODI4MmVjNDU0NTA5YWFmY2Q2MjA1MTU1YmNmYykKICAgICAgICA7CgogICAgICAgIAogICAgCiAgICAKICAgICAgICAgICAgdmFyIGNpcmNsZV9tYXJrZXJfYWVjZTNkOGRiZjgwNDg5MmExZGRkN2Q5Y2JhYmNhYWUgPSBMLmNpcmNsZU1hcmtlcigKICAgICAgICAgICAgICAgIFs0My42NDQ3NzA3OTk5OTk5OTYsIC03OS4zNzMzMDY0XSwKICAgICAgICAgICAgICAgIHsiYnViYmxpbmdNb3VzZUV2ZW50cyI6IHRydWUsICJjb2xvciI6ICIjZmYwMDAwIiwgImRhc2hBcnJheSI6IG51bGwsICJkYXNoT2Zmc2V0IjogbnVsbCwgImZpbGwiOiB0cnVlLCAiZmlsbENvbG9yIjogIiNmZjAwMDAiLCAiZmlsbE9wYWNpdHkiOiAwLjcsICJmaWxsUnVsZSI6ICJldmVub2RkIiwgImxpbmVDYXAiOiAicm91bmQiLCAibGluZUpvaW4iOiAicm91bmQiLCAib3BhY2l0eSI6IDEuMCwgInJhZGl1cyI6IDUsICJzdHJva2UiOiB0cnVlLCAid2VpZ2h0IjogM30KICAgICAgICAgICAgKS5hZGRUbyhtYXBfZGY2ZDAwNjY3OTRjNGUyY2E4YTFlZGQ2ZTQxMDdlNGEpOwogICAgICAgIAogICAgCiAgICAgICAgdmFyIHBvcHVwX2I1ZWQ4NDdlNjVhODQ4NWVhYTIzY2RiN2JjNWEyYjg4ID0gTC5wb3B1cCh7Im1heFdpZHRoIjogIjEwMCUifSk7CgogICAgICAgIAogICAgICAgICAgICB2YXIgaHRtbF81M2NhYjA2NjQxZGM0YWFkYWRkNDkzOWM1YjMxOTJjZCA9ICQoYDxkaXYgaWQ9Imh0bWxfNTNjYWIwNjY0MWRjNGFhZGFkZDQ5MzljNWIzMTkyY2QiIHN0eWxlPSJ3aWR0aDogMTAwLjAlOyBoZWlnaHQ6IDEwMC4wJTsiPiBDbHVzdGVyIDA8L2Rpdj5gKVswXTsKICAgICAgICAgICAgcG9wdXBfYjVlZDg0N2U2NWE4NDg1ZWFhMjNjZGI3YmM1YTJiODguc2V0Q29udGVudChodG1sXzUzY2FiMDY2NDFkYzRhYWRhZGQ0OTM5YzViMzE5MmNkKTsKICAgICAgICAKCiAgICAgICAgY2lyY2xlX21hcmtlcl9hZWNlM2Q4ZGJmODA0ODkyYTFkZGQ3ZDljYmFiY2FhZS5iaW5kUG9wdXAocG9wdXBfYjVlZDg0N2U2NWE4NDg1ZWFhMjNjZGI3YmM1YTJiODgpCiAgICAgICAgOwoKICAgICAgICAKICAgIAogICAgCiAgICAgICAgICAgIHZhciBjaXJjbGVfbWFya2VyXzVmN2I2OTJiMDI2NzQ4YzY4NWE3NGJlOTk2YTUzODBiID0gTC5jaXJjbGVNYXJrZXIoCiAgICAgICAgICAgICAgICBbNDMuNjU3OTUyNCwgLTc5LjM4NzM4MjZdLAogICAgICAgICAgICAgICAgeyJidWJibGluZ01vdXNlRXZlbnRzIjogdHJ1ZSwgImNvbG9yIjogIiNmZjAwMDAiLCAiZGFzaEFycmF5IjogbnVsbCwgImRhc2hPZmZzZXQiOiBudWxsLCAiZmlsbCI6IHRydWUsICJmaWxsQ29sb3IiOiAiI2ZmMDAwMCIsICJmaWxsT3BhY2l0eSI6IDAuNywgImZpbGxSdWxlIjogImV2ZW5vZGQiLCAibGluZUNhcCI6ICJyb3VuZCIsICJsaW5lSm9pbiI6ICJyb3VuZCIsICJvcGFjaXR5IjogMS4wLCAicmFkaXVzIjogNSwgInN0cm9rZSI6IHRydWUsICJ3ZWlnaHQiOiAzfQogICAgICAgICAgICApLmFkZFRvKG1hcF9kZjZkMDA2Njc5NGM0ZTJjYThhMWVkZDZlNDEwN2U0YSk7CiAgICAgICAgCiAgICAKICAgICAgICB2YXIgcG9wdXBfMTgyYzFmOGJmMjYzNDNmMmJmZDU1NjE2MzM5MzBmMzcgPSBMLnBvcHVwKHsibWF4V2lkdGgiOiAiMTAwJSJ9KTsKCiAgICAgICAgCiAgICAgICAgICAgIHZhciBodG1sXzBjNDg1NmM4ZmYzMTRkYmQ4MTVkYTM0NDE4NTJkYmYwID0gJChgPGRpdiBpZD0iaHRtbF8wYzQ4NTZjOGZmMzE0ZGJkODE1ZGEzNDQxODUyZGJmMCIgc3R5bGU9IndpZHRoOiAxMDAuMCU7IGhlaWdodDogMTAwLjAlOyI+IENsdXN0ZXIgMDwvZGl2PmApWzBdOwogICAgICAgICAgICBwb3B1cF8xODJjMWY4YmYyNjM0M2YyYmZkNTU2MTYzMzkzMGYzNy5zZXRDb250ZW50KGh0bWxfMGM0ODU2YzhmZjMxNGRiZDgxNWRhMzQ0MTg1MmRiZjApOwogICAgICAgIAoKICAgICAgICBjaXJjbGVfbWFya2VyXzVmN2I2OTJiMDI2NzQ4YzY4NWE3NGJlOTk2YTUzODBiLmJpbmRQb3B1cChwb3B1cF8xODJjMWY4YmYyNjM0M2YyYmZkNTU2MTYzMzkzMGYzNykKICAgICAgICA7CgogICAgICAgIAogICAgCiAgICAKICAgICAgICAgICAgdmFyIGNpcmNsZV9tYXJrZXJfYjg2NjhkMjhiMTI2NGMyNGJmYzIzNWY1ZTA3NzIzYzkgPSBMLmNpcmNsZU1hcmtlcigKICAgICAgICAgICAgICAgIFs0My42Njk1NDIsIC03OS40MjI1NjM3XSwKICAgICAgICAgICAgICAgIHsiYnViYmxpbmdNb3VzZUV2ZW50cyI6IHRydWUsICJjb2xvciI6ICIjODBmZmI0IiwgImRhc2hBcnJheSI6IG51bGwsICJkYXNoT2Zmc2V0IjogbnVsbCwgImZpbGwiOiB0cnVlLCAiZmlsbENvbG9yIjogIiM4MGZmYjQiLCAiZmlsbE9wYWNpdHkiOiAwLjcsICJmaWxsUnVsZSI6ICJldmVub2RkIiwgImxpbmVDYXAiOiAicm91bmQiLCAibGluZUpvaW4iOiAicm91bmQiLCAib3BhY2l0eSI6IDEuMCwgInJhZGl1cyI6IDUsICJzdHJva2UiOiB0cnVlLCAid2VpZ2h0IjogM30KICAgICAgICAgICAgKS5hZGRUbyhtYXBfZGY2ZDAwNjY3OTRjNGUyY2E4YTFlZGQ2ZTQxMDdlNGEpOwogICAgICAgIAogICAgCiAgICAgICAgdmFyIHBvcHVwX2M1MzBjZjg2MGYzOTQyNTg4NTQwMGUxMTIyMmM0ODExID0gTC5wb3B1cCh7Im1heFdpZHRoIjogIjEwMCUifSk7CgogICAgICAgIAogICAgICAgICAgICB2YXIgaHRtbF84OTM2NTE3MDgzNzg0OGYyODYxNzY1NmI2ZmM4OGJkNiA9ICQoYDxkaXYgaWQ9Imh0bWxfODkzNjUxNzA4Mzc4NDhmMjg2MTc2NTZiNmZjODhiZDYiIHN0eWxlPSJ3aWR0aDogMTAwLjAlOyBoZWlnaHQ6IDEwMC4wJTsiPiBDbHVzdGVyIDM8L2Rpdj5gKVswXTsKICAgICAgICAgICAgcG9wdXBfYzUzMGNmODYwZjM5NDI1ODg1NDAwZTExMjIyYzQ4MTEuc2V0Q29udGVudChodG1sXzg5MzY1MTcwODM3ODQ4ZjI4NjE3NjU2YjZmYzg4YmQ2KTsKICAgICAgICAKCiAgICAgICAgY2lyY2xlX21hcmtlcl9iODY2OGQyOGIxMjY0YzI0YmZjMjM1ZjVlMDc3MjNjOS5iaW5kUG9wdXAocG9wdXBfYzUzMGNmODYwZjM5NDI1ODg1NDAwZTExMjIyYzQ4MTEpCiAgICAgICAgOwoKICAgICAgICAKICAgIAogICAgCiAgICAgICAgICAgIHZhciBjaXJjbGVfbWFya2VyX2NjMDllM2NiZDVkZTQ3MTM5YmY1NGMzOTM3NTFiN2E0ID0gTC5jaXJjbGVNYXJrZXIoCiAgICAgICAgICAgICAgICBbNDMuNjUwNTcxMjAwMDAwMDEsIC03OS4zODQ1Njc1XSwKICAgICAgICAgICAgICAgIHsiYnViYmxpbmdNb3VzZUV2ZW50cyI6IHRydWUsICJjb2xvciI6ICIjZmYwMDAwIiwgImRhc2hBcnJheSI6IG51bGwsICJkYXNoT2Zmc2V0IjogbnVsbCwgImZpbGwiOiB0cnVlLCAiZmlsbENvbG9yIjogIiNmZjAwMDAiLCAiZmlsbE9wYWNpdHkiOiAwLjcsICJmaWxsUnVsZSI6ICJldmVub2RkIiwgImxpbmVDYXAiOiAicm91bmQiLCAibGluZUpvaW4iOiAicm91bmQiLCAib3BhY2l0eSI6IDEuMCwgInJhZGl1cyI6IDUsICJzdHJva2UiOiB0cnVlLCAid2VpZ2h0IjogM30KICAgICAgICAgICAgKS5hZGRUbyhtYXBfZGY2ZDAwNjY3OTRjNGUyY2E4YTFlZGQ2ZTQxMDdlNGEpOwogICAgICAgIAogICAgCiAgICAgICAgdmFyIHBvcHVwXzUyMGE2ZTdlYmM0YTQ1Y2RhMjM1YmRhZWRmNWEyZGExID0gTC5wb3B1cCh7Im1heFdpZHRoIjogIjEwMCUifSk7CgogICAgICAgIAogICAgICAgICAgICB2YXIgaHRtbF8xNjVjODBiOThkZGU0NGRkOGI0N2IyNjlkOWU1YTQxNSA9ICQoYDxkaXYgaWQ9Imh0bWxfMTY1YzgwYjk4ZGRlNDRkZDhiNDdiMjY5ZDllNWE0MTUiIHN0eWxlPSJ3aWR0aDogMTAwLjAlOyBoZWlnaHQ6IDEwMC4wJTsiPiBDbHVzdGVyIDA8L2Rpdj5gKVswXTsKICAgICAgICAgICAgcG9wdXBfNTIwYTZlN2ViYzRhNDVjZGEyMzViZGFlZGY1YTJkYTEuc2V0Q29udGVudChodG1sXzE2NWM4MGI5OGRkZTQ0ZGQ4YjQ3YjI2OWQ5ZTVhNDE1KTsKICAgICAgICAKCiAgICAgICAgY2lyY2xlX21hcmtlcl9jYzA5ZTNjYmQ1ZGU0NzEzOWJmNTRjMzkzNzUxYjdhNC5iaW5kUG9wdXAocG9wdXBfNTIwYTZlN2ViYzRhNDVjZGEyMzViZGFlZGY1YTJkYTEpCiAgICAgICAgOwoKICAgICAgICAKICAgIAogICAgCiAgICAgICAgICAgIHZhciBjaXJjbGVfbWFya2VyXzYyMjZlMmJmOTQwZDRkMDdhODQzN2VmOTM4NDg3OWIyID0gTC5jaXJjbGVNYXJrZXIoCiAgICAgICAgICAgICAgICBbNDMuNjY5MDA1MTAwMDAwMDEsIC03OS40NDIyNTkzXSwKICAgICAgICAgICAgICAgIHsiYnViYmxpbmdNb3VzZUV2ZW50cyI6IHRydWUsICJjb2xvciI6ICIjODAwMGZmIiwgImRhc2hBcnJheSI6IG51bGwsICJkYXNoT2Zmc2V0IjogbnVsbCwgImZpbGwiOiB0cnVlLCAiZmlsbENvbG9yIjogIiM4MDAwZmYiLCAiZmlsbE9wYWNpdHkiOiAwLjcsICJmaWxsUnVsZSI6ICJldmVub2RkIiwgImxpbmVDYXAiOiAicm91bmQiLCAibGluZUpvaW4iOiAicm91bmQiLCAib3BhY2l0eSI6IDEuMCwgInJhZGl1cyI6IDUsICJzdHJva2UiOiB0cnVlLCAid2VpZ2h0IjogM30KICAgICAgICAgICAgKS5hZGRUbyhtYXBfZGY2ZDAwNjY3OTRjNGUyY2E4YTFlZGQ2ZTQxMDdlNGEpOwogICAgICAgIAogICAgCiAgICAgICAgdmFyIHBvcHVwX2E1MmRlNTVjMmI1ZjRlZTZiOTVkNjJhOWJlYTQxMDExID0gTC5wb3B1cCh7Im1heFdpZHRoIjogIjEwMCUifSk7CgogICAgICAgIAogICAgICAgICAgICB2YXIgaHRtbF83NDFkMjk2YmYwNzc0OGZlYTJkNTBkMTgzMmI1M2NhNSA9ICQoYDxkaXYgaWQ9Imh0bWxfNzQxZDI5NmJmMDc3NDhmZWEyZDUwZDE4MzJiNTNjYTUiIHN0eWxlPSJ3aWR0aDogMTAwLjAlOyBoZWlnaHQ6IDEwMC4wJTsiPiBDbHVzdGVyIDE8L2Rpdj5gKVswXTsKICAgICAgICAgICAgcG9wdXBfYTUyZGU1NWMyYjVmNGVlNmI5NWQ2MmE5YmVhNDEwMTEuc2V0Q29udGVudChodG1sXzc0MWQyOTZiZjA3NzQ4ZmVhMmQ1MGQxODMyYjUzY2E1KTsKICAgICAgICAKCiAgICAgICAgY2lyY2xlX21hcmtlcl82MjI2ZTJiZjk0MGQ0ZDA3YTg0MzdlZjkzODQ4NzliMi5iaW5kUG9wdXAocG9wdXBfYTUyZGU1NWMyYjVmNGVlNmI5NWQ2MmE5YmVhNDEwMTEpCiAgICAgICAgOwoKICAgICAgICAKICAgIAogICAgCiAgICAgICAgICAgIHZhciBjaXJjbGVfbWFya2VyX2Q2MWM5NGI4NTdhYTRiMDJiOWQ0MWMyODdmNDlhYjM0ID0gTC5jaXJjbGVNYXJrZXIoCiAgICAgICAgICAgICAgICBbNDMuNjQwODE1NywgLTc5LjM4MTc1MjI5OTk5OTk5XSwKICAgICAgICAgICAgICAgIHsiYnViYmxpbmdNb3VzZUV2ZW50cyI6IHRydWUsICJjb2xvciI6ICIjZmYwMDAwIiwgImRhc2hBcnJheSI6IG51bGwsICJkYXNoT2Zmc2V0IjogbnVsbCwgImZpbGwiOiB0cnVlLCAiZmlsbENvbG9yIjogIiNmZjAwMDAiLCAiZmlsbE9wYWNpdHkiOiAwLjcsICJmaWxsUnVsZSI6ICJldmVub2RkIiwgImxpbmVDYXAiOiAicm91bmQiLCAibGluZUpvaW4iOiAicm91bmQiLCAib3BhY2l0eSI6IDEuMCwgInJhZGl1cyI6IDUsICJzdHJva2UiOiB0cnVlLCAid2VpZ2h0IjogM30KICAgICAgICAgICAgKS5hZGRUbyhtYXBfZGY2ZDAwNjY3OTRjNGUyY2E4YTFlZGQ2ZTQxMDdlNGEpOwogICAgICAgIAogICAgCiAgICAgICAgdmFyIHBvcHVwXzIzM2E0OTcwNjVjMzQ4OTFhYWFhODA5NjYzZDk0NGY2ID0gTC5wb3B1cCh7Im1heFdpZHRoIjogIjEwMCUifSk7CgogICAgICAgIAogICAgICAgICAgICB2YXIgaHRtbF85ODU3MTk4MjdjMDE0ZTI3YmZkM2RkZDlmNzZkMmFhYSA9ICQoYDxkaXYgaWQ9Imh0bWxfOTg1NzE5ODI3YzAxNGUyN2JmZDNkZGQ5Zjc2ZDJhYWEiIHN0eWxlPSJ3aWR0aDogMTAwLjAlOyBoZWlnaHQ6IDEwMC4wJTsiPiBDbHVzdGVyIDA8L2Rpdj5gKVswXTsKICAgICAgICAgICAgcG9wdXBfMjMzYTQ5NzA2NWMzNDg5MWFhYWE4MDk2NjNkOTQ0ZjYuc2V0Q29udGVudChodG1sXzk4NTcxOTgyN2MwMTRlMjdiZmQzZGRkOWY3NmQyYWFhKTsKICAgICAgICAKCiAgICAgICAgY2lyY2xlX21hcmtlcl9kNjFjOTRiODU3YWE0YjAyYjlkNDFjMjg3ZjQ5YWIzNC5iaW5kUG9wdXAocG9wdXBfMjMzYTQ5NzA2NWMzNDg5MWFhYWE4MDk2NjNkOTQ0ZjYpCiAgICAgICAgOwoKICAgICAgICAKICAgIAogICAgCiAgICAgICAgICAgIHZhciBjaXJjbGVfbWFya2VyX2QzMDA4OTA3ZmMxYTQ5YTliZDJjYzY2YjI0ZGJmNzY5ID0gTC5jaXJjbGVNYXJrZXIoCiAgICAgICAgICAgICAgICBbNDMuNjQ3OTI2NzAwMDAwMDA2LCAtNzkuNDE5NzQ5N10sCiAgICAgICAgICAgICAgICB7ImJ1YmJsaW5nTW91c2VFdmVudHMiOiB0cnVlLCAiY29sb3IiOiAiIzgwZmZiNCIsICJkYXNoQXJyYXkiOiBudWxsLCAiZGFzaE9mZnNldCI6IG51bGwsICJmaWxsIjogdHJ1ZSwgImZpbGxDb2xvciI6ICIjODBmZmI0IiwgImZpbGxPcGFjaXR5IjogMC43LCAiZmlsbFJ1bGUiOiAiZXZlbm9kZCIsICJsaW5lQ2FwIjogInJvdW5kIiwgImxpbmVKb2luIjogInJvdW5kIiwgIm9wYWNpdHkiOiAxLjAsICJyYWRpdXMiOiA1LCAic3Ryb2tlIjogdHJ1ZSwgIndlaWdodCI6IDN9CiAgICAgICAgICAgICkuYWRkVG8obWFwX2RmNmQwMDY2Nzk0YzRlMmNhOGExZWRkNmU0MTA3ZTRhKTsKICAgICAgICAKICAgIAogICAgICAgIHZhciBwb3B1cF84NWIyOTBiYjRlZjc0OTY4ODdlMGE3MmMyYzEyYTZmMyA9IEwucG9wdXAoeyJtYXhXaWR0aCI6ICIxMDAlIn0pOwoKICAgICAgICAKICAgICAgICAgICAgdmFyIGh0bWxfMDBjOGQ4N2EyYzFjNDAyMGJlOTc2ZDhlOTVkNjI0MTIgPSAkKGA8ZGl2IGlkPSJodG1sXzAwYzhkODdhMmMxYzQwMjBiZTk3NmQ4ZTk1ZDYyNDEyIiBzdHlsZT0id2lkdGg6IDEwMC4wJTsgaGVpZ2h0OiAxMDAuMCU7Ij4gQ2x1c3RlciAzPC9kaXY+YClbMF07CiAgICAgICAgICAgIHBvcHVwXzg1YjI5MGJiNGVmNzQ5Njg4N2UwYTcyYzJjMTJhNmYzLnNldENvbnRlbnQoaHRtbF8wMGM4ZDg3YTJjMWM0MDIwYmU5NzZkOGU5NWQ2MjQxMik7CiAgICAgICAgCgogICAgICAgIGNpcmNsZV9tYXJrZXJfZDMwMDg5MDdmYzFhNDlhOWJkMmNjNjZiMjRkYmY3NjkuYmluZFBvcHVwKHBvcHVwXzg1YjI5MGJiNGVmNzQ5Njg4N2UwYTcyYzJjMTJhNmYzKQogICAgICAgIDsKCiAgICAgICAgCiAgICAKICAgIAogICAgICAgICAgICB2YXIgY2lyY2xlX21hcmtlcl82ODQxNDc4NTJlZWQ0ZDI1OTI5NWVjNWExOTJiMjU0MSA9IEwuY2lyY2xlTWFya2VyKAogICAgICAgICAgICAgICAgWzQzLjY3OTU1NzEsIC03OS4zNTIxODhdLAogICAgICAgICAgICAgICAgeyJidWJibGluZ01vdXNlRXZlbnRzIjogdHJ1ZSwgImNvbG9yIjogIiNmZmIzNjAiLCAiZGFzaEFycmF5IjogbnVsbCwgImRhc2hPZmZzZXQiOiBudWxsLCAiZmlsbCI6IHRydWUsICJmaWxsQ29sb3IiOiAiI2ZmYjM2MCIsICJmaWxsT3BhY2l0eSI6IDAuNywgImZpbGxSdWxlIjogImV2ZW5vZGQiLCAibGluZUNhcCI6ICJyb3VuZCIsICJsaW5lSm9pbiI6ICJyb3VuZCIsICJvcGFjaXR5IjogMS4wLCAicmFkaXVzIjogNSwgInN0cm9rZSI6IHRydWUsICJ3ZWlnaHQiOiAzfQogICAgICAgICAgICApLmFkZFRvKG1hcF9kZjZkMDA2Njc5NGM0ZTJjYThhMWVkZDZlNDEwN2U0YSk7CiAgICAgICAgCiAgICAKICAgICAgICB2YXIgcG9wdXBfZjAxZmExZjU4OGIxNGNjMThiMjg0NDg2Mjk4ZTM5NjkgPSBMLnBvcHVwKHsibWF4V2lkdGgiOiAiMTAwJSJ9KTsKCiAgICAgICAgCiAgICAgICAgICAgIHZhciBodG1sXzQ0ZWUwZGEwY2I3MTQ5YWU5YWVhZTc0Y2JmMjI5NGFjID0gJChgPGRpdiBpZD0iaHRtbF80NGVlMGRhMGNiNzE0OWFlOWFlYWU3NGNiZjIyOTRhYyIgc3R5bGU9IndpZHRoOiAxMDAuMCU7IGhlaWdodDogMTAwLjAlOyI+IENsdXN0ZXIgNDwvZGl2PmApWzBdOwogICAgICAgICAgICBwb3B1cF9mMDFmYTFmNTg4YjE0Y2MxOGIyODQ0ODYyOThlMzk2OS5zZXRDb250ZW50KGh0bWxfNDRlZTBkYTBjYjcxNDlhZTlhZWFlNzRjYmYyMjk0YWMpOwogICAgICAgIAoKICAgICAgICBjaXJjbGVfbWFya2VyXzY4NDE0Nzg1MmVlZDRkMjU5Mjk1ZWM1YTE5MmIyNTQxLmJpbmRQb3B1cChwb3B1cF9mMDFmYTFmNTg4YjE0Y2MxOGIyODQ0ODYyOThlMzk2OSkKICAgICAgICA7CgogICAgICAgIAogICAgCiAgICAKICAgICAgICAgICAgdmFyIGNpcmNsZV9tYXJrZXJfOGYyZmU1MDU1MjdmNGU1NDg2ZmQyOGMzOGFhMDVmODUgPSBMLmNpcmNsZU1hcmtlcigKICAgICAgICAgICAgICAgIFs0My42NDcxNzY4LCAtNzkuMzgxNTc2NDAwMDAwMDFdLAogICAgICAgICAgICAgICAgeyJidWJibGluZ01vdXNlRXZlbnRzIjogdHJ1ZSwgImNvbG9yIjogIiNmZjAwMDAiLCAiZGFzaEFycmF5IjogbnVsbCwgImRhc2hPZmZzZXQiOiBudWxsLCAiZmlsbCI6IHRydWUsICJmaWxsQ29sb3IiOiAiI2ZmMDAwMCIsICJmaWxsT3BhY2l0eSI6IDAuNywgImZpbGxSdWxlIjogImV2ZW5vZGQiLCAibGluZUNhcCI6ICJyb3VuZCIsICJsaW5lSm9pbiI6ICJyb3VuZCIsICJvcGFjaXR5IjogMS4wLCAicmFkaXVzIjogNSwgInN0cm9rZSI6IHRydWUsICJ3ZWlnaHQiOiAzfQogICAgICAgICAgICApLmFkZFRvKG1hcF9kZjZkMDA2Njc5NGM0ZTJjYThhMWVkZDZlNDEwN2U0YSk7CiAgICAgICAgCiAgICAKICAgICAgICB2YXIgcG9wdXBfMzU0ZDZmNmZmMWMwNDI0NGFjNWE3MTBlZTgxZmNkZjYgPSBMLnBvcHVwKHsibWF4V2lkdGgiOiAiMTAwJSJ9KTsKCiAgICAgICAgCiAgICAgICAgICAgIHZhciBodG1sXzIzMzBkZTA5MmM1MzQ2YTViYzUyMTU5MjA3NmIwMDMxID0gJChgPGRpdiBpZD0iaHRtbF8yMzMwZGUwOTJjNTM0NmE1YmM1MjE1OTIwNzZiMDAzMSIgc3R5bGU9IndpZHRoOiAxMDAuMCU7IGhlaWdodDogMTAwLjAlOyI+IENsdXN0ZXIgMDwvZGl2PmApWzBdOwogICAgICAgICAgICBwb3B1cF8zNTRkNmY2ZmYxYzA0MjQ0YWM1YTcxMGVlODFmY2RmNi5zZXRDb250ZW50KGh0bWxfMjMzMGRlMDkyYzUzNDZhNWJjNTIxNTkyMDc2YjAwMzEpOwogICAgICAgIAoKICAgICAgICBjaXJjbGVfbWFya2VyXzhmMmZlNTA1NTI3ZjRlNTQ4NmZkMjhjMzhhYTA1Zjg1LmJpbmRQb3B1cChwb3B1cF8zNTRkNmY2ZmYxYzA0MjQ0YWM1YTcxMGVlODFmY2RmNikKICAgICAgICA7CgogICAgICAgIAogICAgCiAgICAKICAgICAgICAgICAgdmFyIGNpcmNsZV9tYXJrZXJfZGQyNWJkNjc5OGM3NDc2MWJiNjhjODI5YWE5Y2Q1YzQgPSBMLmNpcmNsZU1hcmtlcigKICAgICAgICAgICAgICAgIFs0My42MzY4NDcyLCAtNzkuNDI4MTkxNDAwMDAwMDJdLAogICAgICAgICAgICAgICAgeyJidWJibGluZ01vdXNlRXZlbnRzIjogdHJ1ZSwgImNvbG9yIjogIiM4MGZmYjQiLCAiZGFzaEFycmF5IjogbnVsbCwgImRhc2hPZmZzZXQiOiBudWxsLCAiZmlsbCI6IHRydWUsICJmaWxsQ29sb3IiOiAiIzgwZmZiNCIsICJmaWxsT3BhY2l0eSI6IDAuNywgImZpbGxSdWxlIjogImV2ZW5vZGQiLCAibGluZUNhcCI6ICJyb3VuZCIsICJsaW5lSm9pbiI6ICJyb3VuZCIsICJvcGFjaXR5IjogMS4wLCAicmFkaXVzIjogNSwgInN0cm9rZSI6IHRydWUsICJ3ZWlnaHQiOiAzfQogICAgICAgICAgICApLmFkZFRvKG1hcF9kZjZkMDA2Njc5NGM0ZTJjYThhMWVkZDZlNDEwN2U0YSk7CiAgICAgICAgCiAgICAKICAgICAgICB2YXIgcG9wdXBfZDg1ODdhMDQ4MjU1NGYwZDhkMzllMzlkMjE2MTBiMzEgPSBMLnBvcHVwKHsibWF4V2lkdGgiOiAiMTAwJSJ9KTsKCiAgICAgICAgCiAgICAgICAgICAgIHZhciBodG1sXzViM2ExYmVhZmY3MTRjZTk4ZmFjZTlhYTU5M2NkYzJiID0gJChgPGRpdiBpZD0iaHRtbF81YjNhMWJlYWZmNzE0Y2U5OGZhY2U5YWE1OTNjZGMyYiIgc3R5bGU9IndpZHRoOiAxMDAuMCU7IGhlaWdodDogMTAwLjAlOyI+IENsdXN0ZXIgMzwvZGl2PmApWzBdOwogICAgICAgICAgICBwb3B1cF9kODU4N2EwNDgyNTU0ZjBkOGQzOWUzOWQyMTYxMGIzMS5zZXRDb250ZW50KGh0bWxfNWIzYTFiZWFmZjcxNGNlOThmYWNlOWFhNTkzY2RjMmIpOwogICAgICAgIAoKICAgICAgICBjaXJjbGVfbWFya2VyX2RkMjViZDY3OThjNzQ3NjFiYjY4YzgyOWFhOWNkNWM0LmJpbmRQb3B1cChwb3B1cF9kODU4N2EwNDgyNTU0ZjBkOGQzOWUzOWQyMTYxMGIzMSkKICAgICAgICA7CgogICAgICAgIAogICAgCiAgICAKICAgICAgICAgICAgdmFyIGNpcmNsZV9tYXJrZXJfNjVkMGZmNjM0NTBmNGVlZmFiMjVlNWU0ZGQwMWNiYjcgPSBMLmNpcmNsZU1hcmtlcigKICAgICAgICAgICAgICAgIFs0My42Njg5OTg1LCAtNzkuMzE1NTcxNTk5OTk5OThdLAogICAgICAgICAgICAgICAgeyJidWJibGluZ01vdXNlRXZlbnRzIjogdHJ1ZSwgImNvbG9yIjogIiNmZmIzNjAiLCAiZGFzaEFycmF5IjogbnVsbCwgImRhc2hPZmZzZXQiOiBudWxsLCAiZmlsbCI6IHRydWUsICJmaWxsQ29sb3IiOiAiI2ZmYjM2MCIsICJmaWxsT3BhY2l0eSI6IDAuNywgImZpbGxSdWxlIjogImV2ZW5vZGQiLCAibGluZUNhcCI6ICJyb3VuZCIsICJsaW5lSm9pbiI6ICJyb3VuZCIsICJvcGFjaXR5IjogMS4wLCAicmFkaXVzIjogNSwgInN0cm9rZSI6IHRydWUsICJ3ZWlnaHQiOiAzfQogICAgICAgICAgICApLmFkZFRvKG1hcF9kZjZkMDA2Njc5NGM0ZTJjYThhMWVkZDZlNDEwN2U0YSk7CiAgICAgICAgCiAgICAKICAgICAgICB2YXIgcG9wdXBfZjcxNDZmMjg3MTZiNDkxMjlkYmUyYzk3ZmVmZmQ1YmIgPSBMLnBvcHVwKHsibWF4V2lkdGgiOiAiMTAwJSJ9KTsKCiAgICAgICAgCiAgICAgICAgICAgIHZhciBodG1sXzhmNjhhMWZjZTkyODQ4YTliN2E5ZDY3MWQ1MmJjNTE1ID0gJChgPGRpdiBpZD0iaHRtbF84ZjY4YTFmY2U5Mjg0OGE5YjdhOWQ2NzFkNTJiYzUxNSIgc3R5bGU9IndpZHRoOiAxMDAuMCU7IGhlaWdodDogMTAwLjAlOyI+IENsdXN0ZXIgNDwvZGl2PmApWzBdOwogICAgICAgICAgICBwb3B1cF9mNzE0NmYyODcxNmI0OTEyOWRiZTJjOTdmZWZmZDViYi5zZXRDb250ZW50KGh0bWxfOGY2OGExZmNlOTI4NDhhOWI3YTlkNjcxZDUyYmM1MTUpOwogICAgICAgIAoKICAgICAgICBjaXJjbGVfbWFya2VyXzY1ZDBmZjYzNDUwZjRlZWZhYjI1ZTVlNGRkMDFjYmI3LmJpbmRQb3B1cChwb3B1cF9mNzE0NmYyODcxNmI0OTEyOWRiZTJjOTdmZWZmZDViYikKICAgICAgICA7CgogICAgICAgIAogICAgCiAgICAKICAgICAgICAgICAgdmFyIGNpcmNsZV9tYXJrZXJfYzQ2MDkyM2ZmZjY3NGE2YmI2YjhkZjlmZmRlZGFjZWQgPSBMLmNpcmNsZU1hcmtlcigKICAgICAgICAgICAgICAgIFs0My42NDgxOTg1LCAtNzkuMzc5ODE2OTAwMDAwMDFdLAogICAgICAgICAgICAgICAgeyJidWJibGluZ01vdXNlRXZlbnRzIjogdHJ1ZSwgImNvbG9yIjogIiNmZjAwMDAiLCAiZGFzaEFycmF5IjogbnVsbCwgImRhc2hPZmZzZXQiOiBudWxsLCAiZmlsbCI6IHRydWUsICJmaWxsQ29sb3IiOiAiI2ZmMDAwMCIsICJmaWxsT3BhY2l0eSI6IDAuNywgImZpbGxSdWxlIjogImV2ZW5vZGQiLCAibGluZUNhcCI6ICJyb3VuZCIsICJsaW5lSm9pbiI6ICJyb3VuZCIsICJvcGFjaXR5IjogMS4wLCAicmFkaXVzIjogNSwgInN0cm9rZSI6IHRydWUsICJ3ZWlnaHQiOiAzfQogICAgICAgICAgICApLmFkZFRvKG1hcF9kZjZkMDA2Njc5NGM0ZTJjYThhMWVkZDZlNDEwN2U0YSk7CiAgICAgICAgCiAgICAKICAgICAgICB2YXIgcG9wdXBfZGVjYjk0NzdlZGUxNDQyMTljM2M5Y2YzNmM0NDc0ZGIgPSBMLnBvcHVwKHsibWF4V2lkdGgiOiAiMTAwJSJ9KTsKCiAgICAgICAgCiAgICAgICAgICAgIHZhciBodG1sXzQ4NGRkMzlhODBiZTRiMTk4ZTU4YjYyN2Y5M2IzMWE3ID0gJChgPGRpdiBpZD0iaHRtbF80ODRkZDM5YTgwYmU0YjE5OGU1OGI2MjdmOTNiMzFhNyIgc3R5bGU9IndpZHRoOiAxMDAuMCU7IGhlaWdodDogMTAwLjAlOyI+IENsdXN0ZXIgMDwvZGl2PmApWzBdOwogICAgICAgICAgICBwb3B1cF9kZWNiOTQ3N2VkZTE0NDIxOWMzYzljZjM2YzQ0NzRkYi5zZXRDb250ZW50KGh0bWxfNDg0ZGQzOWE4MGJlNGIxOThlNThiNjI3ZjkzYjMxYTcpOwogICAgICAgIAoKICAgICAgICBjaXJjbGVfbWFya2VyX2M0NjA5MjNmZmY2NzRhNmJiNmI4ZGY5ZmZkZWRhY2VkLmJpbmRQb3B1cChwb3B1cF9kZWNiOTQ3N2VkZTE0NDIxOWMzYzljZjM2YzQ0NzRkYikKICAgICAgICA7CgogICAgICAgIAogICAgCiAgICAKICAgICAgICAgICAgdmFyIGNpcmNsZV9tYXJrZXJfNjdmZTliYTc0MDVjNGRmM2ExOWVkMmJjMjFkOWY0OTIgPSBMLmNpcmNsZU1hcmtlcigKICAgICAgICAgICAgICAgIFs0My42NTk1MjU1LCAtNzkuMzQwOTIzXSwKICAgICAgICAgICAgICAgIHsiYnViYmxpbmdNb3VzZUV2ZW50cyI6IHRydWUsICJjb2xvciI6ICIjZmZiMzYwIiwgImRhc2hBcnJheSI6IG51bGwsICJkYXNoT2Zmc2V0IjogbnVsbCwgImZpbGwiOiB0cnVlLCAiZmlsbENvbG9yIjogIiNmZmIzNjAiLCAiZmlsbE9wYWNpdHkiOiAwLjcsICJmaWxsUnVsZSI6ICJldmVub2RkIiwgImxpbmVDYXAiOiAicm91bmQiLCAibGluZUpvaW4iOiAicm91bmQiLCAib3BhY2l0eSI6IDEuMCwgInJhZGl1cyI6IDUsICJzdHJva2UiOiB0cnVlLCAid2VpZ2h0IjogM30KICAgICAgICAgICAgKS5hZGRUbyhtYXBfZGY2ZDAwNjY3OTRjNGUyY2E4YTFlZGQ2ZTQxMDdlNGEpOwogICAgICAgIAogICAgCiAgICAgICAgdmFyIHBvcHVwXzM2YmVkODAwYWMwZDQ3ODViMmM4MjE2YTg1ODZiODU0ID0gTC5wb3B1cCh7Im1heFdpZHRoIjogIjEwMCUifSk7CgogICAgICAgIAogICAgICAgICAgICB2YXIgaHRtbF84NWNmMjM3NjY1MDQ0YmMyOGJhYWI0YjJkMjUxZjQ3NCA9ICQoYDxkaXYgaWQ9Imh0bWxfODVjZjIzNzY2NTA0NGJjMjhiYWFiNGIyZDI1MWY0NzQiIHN0eWxlPSJ3aWR0aDogMTAwLjAlOyBoZWlnaHQ6IDEwMC4wJTsiPiBDbHVzdGVyIDQ8L2Rpdj5gKVswXTsKICAgICAgICAgICAgcG9wdXBfMzZiZWQ4MDBhYzBkNDc4NWIyYzgyMTZhODU4NmI4NTQuc2V0Q29udGVudChodG1sXzg1Y2YyMzc2NjUwNDRiYzI4YmFhYjRiMmQyNTFmNDc0KTsKICAgICAgICAKCiAgICAgICAgY2lyY2xlX21hcmtlcl82N2ZlOWJhNzQwNWM0ZGYzYTE5ZWQyYmMyMWQ5ZjQ5Mi5iaW5kUG9wdXAocG9wdXBfMzZiZWQ4MDBhYzBkNDc4NWIyYzgyMTZhODU4NmI4NTQpCiAgICAgICAgOwoKICAgICAgICAKICAgIAogICAgCiAgICAgICAgICAgIHZhciBjaXJjbGVfbWFya2VyX2NjYzUxN2E3OTRmZDQwODJhNzI0MDg1ZGZmNWUwYTY3ID0gTC5jaXJjbGVNYXJrZXIoCiAgICAgICAgICAgICAgICBbNDMuNzI4MDIwNSwgLTc5LjM4ODc5MDFdLAogICAgICAgICAgICAgICAgeyJidWJibGluZ01vdXNlRXZlbnRzIjogdHJ1ZSwgImNvbG9yIjogIiMwMGI1ZWIiLCAiZGFzaEFycmF5IjogbnVsbCwgImRhc2hPZmZzZXQiOiBudWxsLCAiZmlsbCI6IHRydWUsICJmaWxsQ29sb3IiOiAiIzAwYjVlYiIsICJmaWxsT3BhY2l0eSI6IDAuNywgImZpbGxSdWxlIjogImV2ZW5vZGQiLCAibGluZUNhcCI6ICJyb3VuZCIsICJsaW5lSm9pbiI6ICJyb3VuZCIsICJvcGFjaXR5IjogMS4wLCAicmFkaXVzIjogNSwgInN0cm9rZSI6IHRydWUsICJ3ZWlnaHQiOiAzfQogICAgICAgICAgICApLmFkZFRvKG1hcF9kZjZkMDA2Njc5NGM0ZTJjYThhMWVkZDZlNDEwN2U0YSk7CiAgICAgICAgCiAgICAKICAgICAgICB2YXIgcG9wdXBfMjFjN2FhNzdjMzYzNDYwNGFmODExNWVkMDhmNDVmMWQgPSBMLnBvcHVwKHsibWF4V2lkdGgiOiAiMTAwJSJ9KTsKCiAgICAgICAgCiAgICAgICAgICAgIHZhciBodG1sXzJjMjRhOTc5Y2RmYTQ0MDk5MzRkZTVhMjhiZGUwNDA4ID0gJChgPGRpdiBpZD0iaHRtbF8yYzI0YTk3OWNkZmE0NDA5OTM0ZGU1YTI4YmRlMDQwOCIgc3R5bGU9IndpZHRoOiAxMDAuMCU7IGhlaWdodDogMTAwLjAlOyI+IENsdXN0ZXIgMjwvZGl2PmApWzBdOwogICAgICAgICAgICBwb3B1cF8yMWM3YWE3N2MzNjM0NjA0YWY4MTE1ZWQwOGY0NWYxZC5zZXRDb250ZW50KGh0bWxfMmMyNGE5NzljZGZhNDQwOTkzNGRlNWEyOGJkZTA0MDgpOwogICAgICAgIAoKICAgICAgICBjaXJjbGVfbWFya2VyX2NjYzUxN2E3OTRmZDQwODJhNzI0MDg1ZGZmNWUwYTY3LmJpbmRQb3B1cChwb3B1cF8yMWM3YWE3N2MzNjM0NjA0YWY4MTE1ZWQwOGY0NWYxZCkKICAgICAgICA7CgogICAgICAgIAogICAgCiAgICAKICAgICAgICAgICAgdmFyIGNpcmNsZV9tYXJrZXJfYzY5Zjc0YTZkZGU5NDAzYmIxYWM0NDY1ZTA4MTQ0MWIgPSBMLmNpcmNsZU1hcmtlcigKICAgICAgICAgICAgICAgIFs0My43MTE2OTQ4LCAtNzkuNDE2OTM1NTk5OTk5OTldLAogICAgICAgICAgICAgICAgeyJidWJibGluZ01vdXNlRXZlbnRzIjogdHJ1ZSwgImNvbG9yIjogIiMwMGI1ZWIiLCAiZGFzaEFycmF5IjogbnVsbCwgImRhc2hPZmZzZXQiOiBudWxsLCAiZmlsbCI6IHRydWUsICJmaWxsQ29sb3IiOiAiIzAwYjVlYiIsICJmaWxsT3BhY2l0eSI6IDAuNywgImZpbGxSdWxlIjogImV2ZW5vZGQiLCAibGluZUNhcCI6ICJyb3VuZCIsICJsaW5lSm9pbiI6ICJyb3VuZCIsICJvcGFjaXR5IjogMS4wLCAicmFkaXVzIjogNSwgInN0cm9rZSI6IHRydWUsICJ3ZWlnaHQiOiAzfQogICAgICAgICAgICApLmFkZFRvKG1hcF9kZjZkMDA2Njc5NGM0ZTJjYThhMWVkZDZlNDEwN2U0YSk7CiAgICAgICAgCiAgICAKICAgICAgICB2YXIgcG9wdXBfZDk5ZmQxMTQ2ZWNjNGVjYmJmZmQwNjdjNjIyZjc0MWEgPSBMLnBvcHVwKHsibWF4V2lkdGgiOiAiMTAwJSJ9KTsKCiAgICAgICAgCiAgICAgICAgICAgIHZhciBodG1sXzExY2NjZWNkOWZmZDQ3NWE5ODk2MGVlMTFhYTMxYjgyID0gJChgPGRpdiBpZD0iaHRtbF8xMWNjY2VjZDlmZmQ0NzVhOTg5NjBlZTExYWEzMWI4MiIgc3R5bGU9IndpZHRoOiAxMDAuMCU7IGhlaWdodDogMTAwLjAlOyI+IENsdXN0ZXIgMjwvZGl2PmApWzBdOwogICAgICAgICAgICBwb3B1cF9kOTlmZDExNDZlY2M0ZWNiYmZmZDA2N2M2MjJmNzQxYS5zZXRDb250ZW50KGh0bWxfMTFjY2NlY2Q5ZmZkNDc1YTk4OTYwZWUxMWFhMzFiODIpOwogICAgICAgIAoKICAgICAgICBjaXJjbGVfbWFya2VyX2M2OWY3NGE2ZGRlOTQwM2JiMWFjNDQ2NWUwODE0NDFiLmJpbmRQb3B1cChwb3B1cF9kOTlmZDExNDZlY2M0ZWNiYmZmZDA2N2M2MjJmNzQxYSkKICAgICAgICA7CgogICAgICAgIAogICAgCiAgICAKICAgICAgICAgICAgdmFyIGNpcmNsZV9tYXJrZXJfNDg2YmRiYTJhZGRjNDNmOTlkZTVjYjIzNjk0MWVlMTkgPSBMLmNpcmNsZU1hcmtlcigKICAgICAgICAgICAgICAgIFs0My43MTI3NTExLCAtNzkuMzkwMTk3NV0sCiAgICAgICAgICAgICAgICB7ImJ1YmJsaW5nTW91c2VFdmVudHMiOiB0cnVlLCAiY29sb3IiOiAiIzAwYjVlYiIsICJkYXNoQXJyYXkiOiBudWxsLCAiZGFzaE9mZnNldCI6IG51bGwsICJmaWxsIjogdHJ1ZSwgImZpbGxDb2xvciI6ICIjMDBiNWViIiwgImZpbGxPcGFjaXR5IjogMC43LCAiZmlsbFJ1bGUiOiAiZXZlbm9kZCIsICJsaW5lQ2FwIjogInJvdW5kIiwgImxpbmVKb2luIjogInJvdW5kIiwgIm9wYWNpdHkiOiAxLjAsICJyYWRpdXMiOiA1LCAic3Ryb2tlIjogdHJ1ZSwgIndlaWdodCI6IDN9CiAgICAgICAgICAgICkuYWRkVG8obWFwX2RmNmQwMDY2Nzk0YzRlMmNhOGExZWRkNmU0MTA3ZTRhKTsKICAgICAgICAKICAgIAogICAgICAgIHZhciBwb3B1cF8xYmI1MTQ0MjkwOWE0YmQ2YWE1NzlhMjQ0Yjg4MDJkZiA9IEwucG9wdXAoeyJtYXhXaWR0aCI6ICIxMDAlIn0pOwoKICAgICAgICAKICAgICAgICAgICAgdmFyIGh0bWxfY2YyMzRiMzliMGNmNDIzZTlkYjM3ZjI2ZmM1YjZhYzMgPSAkKGA8ZGl2IGlkPSJodG1sX2NmMjM0YjM5YjBjZjQyM2U5ZGIzN2YyNmZjNWI2YWMzIiBzdHlsZT0id2lkdGg6IDEwMC4wJTsgaGVpZ2h0OiAxMDAuMCU7Ij4gQ2x1c3RlciAyPC9kaXY+YClbMF07CiAgICAgICAgICAgIHBvcHVwXzFiYjUxNDQyOTA5YTRiZDZhYTU3OWEyNDRiODgwMmRmLnNldENvbnRlbnQoaHRtbF9jZjIzNGIzOWIwY2Y0MjNlOWRiMzdmMjZmYzViNmFjMyk7CiAgICAgICAgCgogICAgICAgIGNpcmNsZV9tYXJrZXJfNDg2YmRiYTJhZGRjNDNmOTlkZTVjYjIzNjk0MWVlMTkuYmluZFBvcHVwKHBvcHVwXzFiYjUxNDQyOTA5YTRiZDZhYTU3OWEyNDRiODgwMmRmKQogICAgICAgIDsKCiAgICAgICAgCiAgICAKICAgIAogICAgICAgICAgICB2YXIgY2lyY2xlX21hcmtlcl9hNDlhOTIyOGRlYjc0ZTMxYjA5ODZlOWYzZGQ4N2Q1YyA9IEwuY2lyY2xlTWFya2VyKAogICAgICAgICAgICAgICAgWzQzLjY5Njk0NzYsIC03OS40MTEzMDcyMDAwMDAwMV0sCiAgICAgICAgICAgICAgICB7ImJ1YmJsaW5nTW91c2VFdmVudHMiOiB0cnVlLCAiY29sb3IiOiAiIzAwYjVlYiIsICJkYXNoQXJyYXkiOiBudWxsLCAiZGFzaE9mZnNldCI6IG51bGwsICJmaWxsIjogdHJ1ZSwgImZpbGxDb2xvciI6ICIjMDBiNWViIiwgImZpbGxPcGFjaXR5IjogMC43LCAiZmlsbFJ1bGUiOiAiZXZlbm9kZCIsICJsaW5lQ2FwIjogInJvdW5kIiwgImxpbmVKb2luIjogInJvdW5kIiwgIm9wYWNpdHkiOiAxLjAsICJyYWRpdXMiOiA1LCAic3Ryb2tlIjogdHJ1ZSwgIndlaWdodCI6IDN9CiAgICAgICAgICAgICkuYWRkVG8obWFwX2RmNmQwMDY2Nzk0YzRlMmNhOGExZWRkNmU0MTA3ZTRhKTsKICAgICAgICAKICAgIAogICAgICAgIHZhciBwb3B1cF81NjA4Njk2NzhiZGU0N2Q2OGU5MjU4MTIxNWRmMzYyNSA9IEwucG9wdXAoeyJtYXhXaWR0aCI6ICIxMDAlIn0pOwoKICAgICAgICAKICAgICAgICAgICAgdmFyIGh0bWxfMGEyNWIyOWY0YjlkNDU5Mzk5NzJlYTEwMjZmOWIxOGIgPSAkKGA8ZGl2IGlkPSJodG1sXzBhMjViMjlmNGI5ZDQ1OTM5OTcyZWExMDI2ZjliMThiIiBzdHlsZT0id2lkdGg6IDEwMC4wJTsgaGVpZ2h0OiAxMDAuMCU7Ij4gQ2x1c3RlciAyPC9kaXY+YClbMF07CiAgICAgICAgICAgIHBvcHVwXzU2MDg2OTY3OGJkZTQ3ZDY4ZTkyNTgxMjE1ZGYzNjI1LnNldENvbnRlbnQoaHRtbF8wYTI1YjI5ZjRiOWQ0NTkzOTk3MmVhMTAyNmY5YjE4Yik7CiAgICAgICAgCgogICAgICAgIGNpcmNsZV9tYXJrZXJfYTQ5YTkyMjhkZWI3NGUzMWIwOTg2ZTlmM2RkODdkNWMuYmluZFBvcHVwKHBvcHVwXzU2MDg2OTY3OGJkZTQ3ZDY4ZTkyNTgxMjE1ZGYzNjI1KQogICAgICAgIDsKCiAgICAgICAgCiAgICAKICAgIAogICAgICAgICAgICB2YXIgY2lyY2xlX21hcmtlcl81ZTZlODk4MjI1ZTU0YjIzOGUxNzRlYzY5YWI0NjY4OCA9IEwuY2lyY2xlTWFya2VyKAogICAgICAgICAgICAgICAgWzQzLjY2MTYwODMsIC03OS40NjQ3NjMyOTk5OTk5OV0sCiAgICAgICAgICAgICAgICB7ImJ1YmJsaW5nTW91c2VFdmVudHMiOiB0cnVlLCAiY29sb3IiOiAiIzgwMDBmZiIsICJkYXNoQXJyYXkiOiBudWxsLCAiZGFzaE9mZnNldCI6IG51bGwsICJmaWxsIjogdHJ1ZSwgImZpbGxDb2xvciI6ICIjODAwMGZmIiwgImZpbGxPcGFjaXR5IjogMC43LCAiZmlsbFJ1bGUiOiAiZXZlbm9kZCIsICJsaW5lQ2FwIjogInJvdW5kIiwgImxpbmVKb2luIjogInJvdW5kIiwgIm9wYWNpdHkiOiAxLjAsICJyYWRpdXMiOiA1LCAic3Ryb2tlIjogdHJ1ZSwgIndlaWdodCI6IDN9CiAgICAgICAgICAgICkuYWRkVG8obWFwX2RmNmQwMDY2Nzk0YzRlMmNhOGExZWRkNmU0MTA3ZTRhKTsKICAgICAgICAKICAgIAogICAgICAgIHZhciBwb3B1cF9mOTAwODI0M2U1YjQ0ZDY5OTQ5OTI3MTEzZDFiNTU2NyA9IEwucG9wdXAoeyJtYXhXaWR0aCI6ICIxMDAlIn0pOwoKICAgICAgICAKICAgICAgICAgICAgdmFyIGh0bWxfY2ExYjNkZDJmZDBlNDI5MDkzNzk3MGNhOWU3NWFhZTIgPSAkKGA8ZGl2IGlkPSJodG1sX2NhMWIzZGQyZmQwZTQyOTA5Mzc5NzBjYTllNzVhYWUyIiBzdHlsZT0id2lkdGg6IDEwMC4wJTsgaGVpZ2h0OiAxMDAuMCU7Ij4gQ2x1c3RlciAxPC9kaXY+YClbMF07CiAgICAgICAgICAgIHBvcHVwX2Y5MDA4MjQzZTViNDRkNjk5NDk5MjcxMTNkMWI1NTY3LnNldENvbnRlbnQoaHRtbF9jYTFiM2RkMmZkMGU0MjkwOTM3OTcwY2E5ZTc1YWFlMik7CiAgICAgICAgCgogICAgICAgIGNpcmNsZV9tYXJrZXJfNWU2ZTg5ODIyNWU1NGIyMzhlMTc0ZWM2OWFiNDY2ODguYmluZFBvcHVwKHBvcHVwX2Y5MDA4MjQzZTViNDRkNjk5NDk5MjcxMTNkMWI1NTY3KQogICAgICAgIDsKCiAgICAgICAgCiAgICAKICAgIAogICAgICAgICAgICB2YXIgY2lyY2xlX21hcmtlcl81ZWI5MTRiNzM4MzU0OTg4OTBmMWZkMTMxODUxY2I5OSA9IEwuY2lyY2xlTWFya2VyKAogICAgICAgICAgICAgICAgWzQzLjcxNTM4MzQsIC03OS40MDU2Nzg0MDAwMDAwMV0sCiAgICAgICAgICAgICAgICB7ImJ1YmJsaW5nTW91c2VFdmVudHMiOiB0cnVlLCAiY29sb3IiOiAiIzAwYjVlYiIsICJkYXNoQXJyYXkiOiBudWxsLCAiZGFzaE9mZnNldCI6IG51bGwsICJmaWxsIjogdHJ1ZSwgImZpbGxDb2xvciI6ICIjMDBiNWViIiwgImZpbGxPcGFjaXR5IjogMC43LCAiZmlsbFJ1bGUiOiAiZXZlbm9kZCIsICJsaW5lQ2FwIjogInJvdW5kIiwgImxpbmVKb2luIjogInJvdW5kIiwgIm9wYWNpdHkiOiAxLjAsICJyYWRpdXMiOiA1LCAic3Ryb2tlIjogdHJ1ZSwgIndlaWdodCI6IDN9CiAgICAgICAgICAgICkuYWRkVG8obWFwX2RmNmQwMDY2Nzk0YzRlMmNhOGExZWRkNmU0MTA3ZTRhKTsKICAgICAgICAKICAgIAogICAgICAgIHZhciBwb3B1cF8zNjc1YTcyYTc5YzE0ZDQ2Yjc1MDg5OWNmNGQyMDYxZSA9IEwucG9wdXAoeyJtYXhXaWR0aCI6ICIxMDAlIn0pOwoKICAgICAgICAKICAgICAgICAgICAgdmFyIGh0bWxfZWFjYzhmM2ZiOWVmNDNiZjljMGM5OTA5M2I2OWFjOTMgPSAkKGA8ZGl2IGlkPSJodG1sX2VhY2M4ZjNmYjllZjQzYmY5YzBjOTkwOTNiNjlhYzkzIiBzdHlsZT0id2lkdGg6IDEwMC4wJTsgaGVpZ2h0OiAxMDAuMCU7Ij4gQ2x1c3RlciAyPC9kaXY+YClbMF07CiAgICAgICAgICAgIHBvcHVwXzM2NzVhNzJhNzljMTRkNDZiNzUwODk5Y2Y0ZDIwNjFlLnNldENvbnRlbnQoaHRtbF9lYWNjOGYzZmI5ZWY0M2JmOWMwYzk5MDkzYjY5YWM5Myk7CiAgICAgICAgCgogICAgICAgIGNpcmNsZV9tYXJrZXJfNWViOTE0YjczODM1NDk4ODkwZjFmZDEzMTg1MWNiOTkuYmluZFBvcHVwKHBvcHVwXzM2NzVhNzJhNzljMTRkNDZiNzUwODk5Y2Y0ZDIwNjFlKQogICAgICAgIDsKCiAgICAgICAgCiAgICAKICAgIAogICAgICAgICAgICB2YXIgY2lyY2xlX21hcmtlcl8xMDU2ODVhODllZDk0NWIwYWJjYTU5YTU0YWRlMWNlYyA9IEwuY2lyY2xlTWFya2VyKAogICAgICAgICAgICAgICAgWzQzLjY3MjcwOTcsIC03OS40MDU2Nzg0MDAwMDAwMV0sCiAgICAgICAgICAgICAgICB7ImJ1YmJsaW5nTW91c2VFdmVudHMiOiB0cnVlLCAiY29sb3IiOiAiIzgwZmZiNCIsICJkYXNoQXJyYXkiOiBudWxsLCAiZGFzaE9mZnNldCI6IG51bGwsICJmaWxsIjogdHJ1ZSwgImZpbGxDb2xvciI6ICIjODBmZmI0IiwgImZpbGxPcGFjaXR5IjogMC43LCAiZmlsbFJ1bGUiOiAiZXZlbm9kZCIsICJsaW5lQ2FwIjogInJvdW5kIiwgImxpbmVKb2luIjogInJvdW5kIiwgIm9wYWNpdHkiOiAxLjAsICJyYWRpdXMiOiA1LCAic3Ryb2tlIjogdHJ1ZSwgIndlaWdodCI6IDN9CiAgICAgICAgICAgICkuYWRkVG8obWFwX2RmNmQwMDY2Nzk0YzRlMmNhOGExZWRkNmU0MTA3ZTRhKTsKICAgICAgICAKICAgIAogICAgICAgIHZhciBwb3B1cF8xN2Y2NDA3MjkxNTc0Njk2OWM0NDJmM2RjYWZlMTg2NyA9IEwucG9wdXAoeyJtYXhXaWR0aCI6ICIxMDAlIn0pOwoKICAgICAgICAKICAgICAgICAgICAgdmFyIGh0bWxfZjIyNWM3MjIxYzFmNGQ2ZGJhMzA3OTYzZTFjMzVlZGMgPSAkKGA8ZGl2IGlkPSJodG1sX2YyMjVjNzIyMWMxZjRkNmRiYTMwNzk2M2UxYzM1ZWRjIiBzdHlsZT0id2lkdGg6IDEwMC4wJTsgaGVpZ2h0OiAxMDAuMCU7Ij4gQ2x1c3RlciAzPC9kaXY+YClbMF07CiAgICAgICAgICAgIHBvcHVwXzE3ZjY0MDcyOTE1NzQ2OTY5YzQ0MmYzZGNhZmUxODY3LnNldENvbnRlbnQoaHRtbF9mMjI1YzcyMjFjMWY0ZDZkYmEzMDc5NjNlMWMzNWVkYyk7CiAgICAgICAgCgogICAgICAgIGNpcmNsZV9tYXJrZXJfMTA1Njg1YTg5ZWQ5NDViMGFiY2E1OWE1NGFkZTFjZWMuYmluZFBvcHVwKHBvcHVwXzE3ZjY0MDcyOTE1NzQ2OTY5YzQ0MmYzZGNhZmUxODY3KQogICAgICAgIDsKCiAgICAgICAgCiAgICAKICAgIAogICAgICAgICAgICB2YXIgY2lyY2xlX21hcmtlcl84ODNlMWM2MTQyNWM0M2U2YjAyMzJiZTZhNzU0NzdjOCA9IEwuY2lyY2xlTWFya2VyKAogICAgICAgICAgICAgICAgWzQzLjY0ODk1OTcsIC03OS40NTYzMjVdLAogICAgICAgICAgICAgICAgeyJidWJibGluZ01vdXNlRXZlbnRzIjogdHJ1ZSwgImNvbG9yIjogIiM4MDAwZmYiLCAiZGFzaEFycmF5IjogbnVsbCwgImRhc2hPZmZzZXQiOiBudWxsLCAiZmlsbCI6IHRydWUsICJmaWxsQ29sb3IiOiAiIzgwMDBmZiIsICJmaWxsT3BhY2l0eSI6IDAuNywgImZpbGxSdWxlIjogImV2ZW5vZGQiLCAibGluZUNhcCI6ICJyb3VuZCIsICJsaW5lSm9pbiI6ICJyb3VuZCIsICJvcGFjaXR5IjogMS4wLCAicmFkaXVzIjogNSwgInN0cm9rZSI6IHRydWUsICJ3ZWlnaHQiOiAzfQogICAgICAgICAgICApLmFkZFRvKG1hcF9kZjZkMDA2Njc5NGM0ZTJjYThhMWVkZDZlNDEwN2U0YSk7CiAgICAgICAgCiAgICAKICAgICAgICB2YXIgcG9wdXBfYzJhZjE4ZjlmNmVhNDI1M2JmMjgzMDQ5ZDk1Yjg0MTYgPSBMLnBvcHVwKHsibWF4V2lkdGgiOiAiMTAwJSJ9KTsKCiAgICAgICAgCiAgICAgICAgICAgIHZhciBodG1sXzUxOTE1MGRiZGQ4YzQzZmI5MzBlMzJkNDllYWU5MWI5ID0gJChgPGRpdiBpZD0iaHRtbF81MTkxNTBkYmRkOGM0M2ZiOTMwZTMyZDQ5ZWFlOTFiOSIgc3R5bGU9IndpZHRoOiAxMDAuMCU7IGhlaWdodDogMTAwLjAlOyI+IENsdXN0ZXIgMTwvZGl2PmApWzBdOwogICAgICAgICAgICBwb3B1cF9jMmFmMThmOWY2ZWE0MjUzYmYyODMwNDlkOTViODQxNi5zZXRDb250ZW50KGh0bWxfNTE5MTUwZGJkZDhjNDNmYjkzMGUzMmQ0OWVhZTkxYjkpOwogICAgICAgIAoKICAgICAgICBjaXJjbGVfbWFya2VyXzg4M2UxYzYxNDI1YzQzZTZiMDIzMmJlNmE3NTQ3N2M4LmJpbmRQb3B1cChwb3B1cF9jMmFmMThmOWY2ZWE0MjUzYmYyODMwNDlkOTViODQxNikKICAgICAgICA7CgogICAgICAgIAogICAgCiAgICAKICAgICAgICAgICAgdmFyIGNpcmNsZV9tYXJrZXJfODk2ZDA4Mzk4MGYzNDExNjgwOTM4ZTdhMDI3Mzk4NjMgPSBMLmNpcmNsZU1hcmtlcigKICAgICAgICAgICAgICAgIFs0My43MDQzMjQ0LCAtNzkuMzg4NzkwMV0sCiAgICAgICAgICAgICAgICB7ImJ1YmJsaW5nTW91c2VFdmVudHMiOiB0cnVlLCAiY29sb3IiOiAiIzAwYjVlYiIsICJkYXNoQXJyYXkiOiBudWxsLCAiZGFzaE9mZnNldCI6IG51bGwsICJmaWxsIjogdHJ1ZSwgImZpbGxDb2xvciI6ICIjMDBiNWViIiwgImZpbGxPcGFjaXR5IjogMC43LCAiZmlsbFJ1bGUiOiAiZXZlbm9kZCIsICJsaW5lQ2FwIjogInJvdW5kIiwgImxpbmVKb2luIjogInJvdW5kIiwgIm9wYWNpdHkiOiAxLjAsICJyYWRpdXMiOiA1LCAic3Ryb2tlIjogdHJ1ZSwgIndlaWdodCI6IDN9CiAgICAgICAgICAgICkuYWRkVG8obWFwX2RmNmQwMDY2Nzk0YzRlMmNhOGExZWRkNmU0MTA3ZTRhKTsKICAgICAgICAKICAgIAogICAgICAgIHZhciBwb3B1cF81YWNkZWM0YTMwNjk0M2MxYTE0ZmI4ZTIyNTIxZTcyZCA9IEwucG9wdXAoeyJtYXhXaWR0aCI6ICIxMDAlIn0pOwoKICAgICAgICAKICAgICAgICAgICAgdmFyIGh0bWxfNDMyN2ExZDlmMmY4NGY0Njg2Y2EzYTc4YTc2MGEwNTIgPSAkKGA8ZGl2IGlkPSJodG1sXzQzMjdhMWQ5ZjJmODRmNDY4NmNhM2E3OGE3NjBhMDUyIiBzdHlsZT0id2lkdGg6IDEwMC4wJTsgaGVpZ2h0OiAxMDAuMCU7Ij4gQ2x1c3RlciAyPC9kaXY+YClbMF07CiAgICAgICAgICAgIHBvcHVwXzVhY2RlYzRhMzA2OTQzYzFhMTRmYjhlMjI1MjFlNzJkLnNldENvbnRlbnQoaHRtbF80MzI3YTFkOWYyZjg0ZjQ2ODZjYTNhNzhhNzYwYTA1Mik7CiAgICAgICAgCgogICAgICAgIGNpcmNsZV9tYXJrZXJfODk2ZDA4Mzk4MGYzNDExNjgwOTM4ZTdhMDI3Mzk4NjMuYmluZFBvcHVwKHBvcHVwXzVhY2RlYzRhMzA2OTQzYzFhMTRmYjhlMjI1MjFlNzJkKQogICAgICAgIDsKCiAgICAgICAgCiAgICAKICAgIAogICAgICAgICAgICB2YXIgY2lyY2xlX21hcmtlcl8xMTQyMTc2OGZjMmI0OGM5YTdjOGUyNTliZWQyZjlkZiA9IEwuY2lyY2xlTWFya2VyKAogICAgICAgICAgICAgICAgWzQzLjY2MjY5NTYsIC03OS40MDAwNDkzXSwKICAgICAgICAgICAgICAgIHsiYnViYmxpbmdNb3VzZUV2ZW50cyI6IHRydWUsICJjb2xvciI6ICIjODBmZmI0IiwgImRhc2hBcnJheSI6IG51bGwsICJkYXNoT2Zmc2V0IjogbnVsbCwgImZpbGwiOiB0cnVlLCAiZmlsbENvbG9yIjogIiM4MGZmYjQiLCAiZmlsbE9wYWNpdHkiOiAwLjcsICJmaWxsUnVsZSI6ICJldmVub2RkIiwgImxpbmVDYXAiOiAicm91bmQiLCAibGluZUpvaW4iOiAicm91bmQiLCAib3BhY2l0eSI6IDEuMCwgInJhZGl1cyI6IDUsICJzdHJva2UiOiB0cnVlLCAid2VpZ2h0IjogM30KICAgICAgICAgICAgKS5hZGRUbyhtYXBfZGY2ZDAwNjY3OTRjNGUyY2E4YTFlZGQ2ZTQxMDdlNGEpOwogICAgICAgIAogICAgCiAgICAgICAgdmFyIHBvcHVwXzlkM2I4MTg3YTIxNDQ1MTM5NzZjNjkxZDVkNGY2NDFkID0gTC5wb3B1cCh7Im1heFdpZHRoIjogIjEwMCUifSk7CgogICAgICAgIAogICAgICAgICAgICB2YXIgaHRtbF9mODMwNzhlYTZkYjY0MjhlYjkwMzM2ZTg0YWQ1MGU3ZiA9ICQoYDxkaXYgaWQ9Imh0bWxfZjgzMDc4ZWE2ZGI2NDI4ZWI5MDMzNmU4NGFkNTBlN2YiIHN0eWxlPSJ3aWR0aDogMTAwLjAlOyBoZWlnaHQ6IDEwMC4wJTsiPiBDbHVzdGVyIDM8L2Rpdj5gKVswXTsKICAgICAgICAgICAgcG9wdXBfOWQzYjgxODdhMjE0NDUxMzk3NmM2OTFkNWQ0ZjY0MWQuc2V0Q29udGVudChodG1sX2Y4MzA3OGVhNmRiNjQyOGViOTAzMzZlODRhZDUwZTdmKTsKICAgICAgICAKCiAgICAgICAgY2lyY2xlX21hcmtlcl8xMTQyMTc2OGZjMmI0OGM5YTdjOGUyNTliZWQyZjlkZi5iaW5kUG9wdXAocG9wdXBfOWQzYjgxODdhMjE0NDUxMzk3NmM2OTFkNWQ0ZjY0MWQpCiAgICAgICAgOwoKICAgICAgICAKICAgIAogICAgCiAgICAgICAgICAgIHZhciBjaXJjbGVfbWFya2VyXzRjNzNmZWZlN2UwYzQzOWE4ODAyZGE1ZmY2MzRkYjdiID0gTC5jaXJjbGVNYXJrZXIoCiAgICAgICAgICAgICAgICBbNDMuNjUxNTcwNiwgLTc5LjQ4NDQ0OTldLAogICAgICAgICAgICAgICAgeyJidWJibGluZ01vdXNlRXZlbnRzIjogdHJ1ZSwgImNvbG9yIjogIiM4MDAwZmYiLCAiZGFzaEFycmF5IjogbnVsbCwgImRhc2hPZmZzZXQiOiBudWxsLCAiZmlsbCI6IHRydWUsICJmaWxsQ29sb3IiOiAiIzgwMDBmZiIsICJmaWxsT3BhY2l0eSI6IDAuNywgImZpbGxSdWxlIjogImV2ZW5vZGQiLCAibGluZUNhcCI6ICJyb3VuZCIsICJsaW5lSm9pbiI6ICJyb3VuZCIsICJvcGFjaXR5IjogMS4wLCAicmFkaXVzIjogNSwgInN0cm9rZSI6IHRydWUsICJ3ZWlnaHQiOiAzfQogICAgICAgICAgICApLmFkZFRvKG1hcF9kZjZkMDA2Njc5NGM0ZTJjYThhMWVkZDZlNDEwN2U0YSk7CiAgICAgICAgCiAgICAKICAgICAgICB2YXIgcG9wdXBfM2VkZjRiZTEyMzMxNDIzNDkyMGYwMWJlOWViM2RjYTYgPSBMLnBvcHVwKHsibWF4V2lkdGgiOiAiMTAwJSJ9KTsKCiAgICAgICAgCiAgICAgICAgICAgIHZhciBodG1sXzk2Mzg5OTcyYzNmNTQxNGQ5ZmExMTkzZGNmMmY1YjkyID0gJChgPGRpdiBpZD0iaHRtbF85NjM4OTk3MmMzZjU0MTRkOWZhMTE5M2RjZjJmNWI5MiIgc3R5bGU9IndpZHRoOiAxMDAuMCU7IGhlaWdodDogMTAwLjAlOyI+IENsdXN0ZXIgMTwvZGl2PmApWzBdOwogICAgICAgICAgICBwb3B1cF8zZWRmNGJlMTIzMzE0MjM0OTIwZjAxYmU5ZWIzZGNhNi5zZXRDb250ZW50KGh0bWxfOTYzODk5NzJjM2Y1NDE0ZDlmYTExOTNkY2YyZjViOTIpOwogICAgICAgIAoKICAgICAgICBjaXJjbGVfbWFya2VyXzRjNzNmZWZlN2UwYzQzOWE4ODAyZGE1ZmY2MzRkYjdiLmJpbmRQb3B1cChwb3B1cF8zZWRmNGJlMTIzMzE0MjM0OTIwZjAxYmU5ZWIzZGNhNikKICAgICAgICA7CgogICAgICAgIAogICAgCiAgICAKICAgICAgICAgICAgdmFyIGNpcmNsZV9tYXJrZXJfN2U0MjIxZDc1NTUwNDM1MTk4OWJmNTliNGM4OGZlNmQgPSBMLmNpcmNsZU1hcmtlcigKICAgICAgICAgICAgICAgIFs0My42ODk1NzQzLCAtNzkuMzgzMTU5OTAwMDAwMDFdLAogICAgICAgICAgICAgICAgeyJidWJibGluZ01vdXNlRXZlbnRzIjogdHJ1ZSwgImNvbG9yIjogIiMwMGI1ZWIiLCAiZGFzaEFycmF5IjogbnVsbCwgImRhc2hPZmZzZXQiOiBudWxsLCAiZmlsbCI6IHRydWUsICJmaWxsQ29sb3IiOiAiIzAwYjVlYiIsICJmaWxsT3BhY2l0eSI6IDAuNywgImZpbGxSdWxlIjogImV2ZW5vZGQiLCAibGluZUNhcCI6ICJyb3VuZCIsICJsaW5lSm9pbiI6ICJyb3VuZCIsICJvcGFjaXR5IjogMS4wLCAicmFkaXVzIjogNSwgInN0cm9rZSI6IHRydWUsICJ3ZWlnaHQiOiAzfQogICAgICAgICAgICApLmFkZFRvKG1hcF9kZjZkMDA2Njc5NGM0ZTJjYThhMWVkZDZlNDEwN2U0YSk7CiAgICAgICAgCiAgICAKICAgICAgICB2YXIgcG9wdXBfODM4NGRhNDgxYTQ0NDhlZWE1ZDUxZDM2NWQyMDBiZDUgPSBMLnBvcHVwKHsibWF4V2lkdGgiOiAiMTAwJSJ9KTsKCiAgICAgICAgCiAgICAgICAgICAgIHZhciBodG1sXzA4YmNlN2EyYzM3NTQ2OTliZWFhMzg5N2Q5ZjRlYzkzID0gJChgPGRpdiBpZD0iaHRtbF8wOGJjZTdhMmMzNzU0Njk5YmVhYTM4OTdkOWY0ZWM5MyIgc3R5bGU9IndpZHRoOiAxMDAuMCU7IGhlaWdodDogMTAwLjAlOyI+IENsdXN0ZXIgMjwvZGl2PmApWzBdOwogICAgICAgICAgICBwb3B1cF84Mzg0ZGE0ODFhNDQ0OGVlYTVkNTFkMzY1ZDIwMGJkNS5zZXRDb250ZW50KGh0bWxfMDhiY2U3YTJjMzc1NDY5OWJlYWEzODk3ZDlmNGVjOTMpOwogICAgICAgIAoKICAgICAgICBjaXJjbGVfbWFya2VyXzdlNDIyMWQ3NTU1MDQzNTE5ODliZjU5YjRjODhmZTZkLmJpbmRQb3B1cChwb3B1cF84Mzg0ZGE0ODFhNDQ0OGVlYTVkNTFkMzY1ZDIwMGJkNSkKICAgICAgICA7CgogICAgICAgIAogICAgCiAgICAKICAgICAgICAgICAgdmFyIGNpcmNsZV9tYXJrZXJfNDY2MTNhMjcyNzM5NGJjZDhhM2Y0ZjYyNmU0MGM2ZTcgPSBMLmNpcmNsZU1hcmtlcigKICAgICAgICAgICAgICAgIFs0My42NTMyMDU3LCAtNzkuNDAwMDQ5M10sCiAgICAgICAgICAgICAgICB7ImJ1YmJsaW5nTW91c2VFdmVudHMiOiB0cnVlLCAiY29sb3IiOiAiIzgwZmZiNCIsICJkYXNoQXJyYXkiOiBudWxsLCAiZGFzaE9mZnNldCI6IG51bGwsICJmaWxsIjogdHJ1ZSwgImZpbGxDb2xvciI6ICIjODBmZmI0IiwgImZpbGxPcGFjaXR5IjogMC43LCAiZmlsbFJ1bGUiOiAiZXZlbm9kZCIsICJsaW5lQ2FwIjogInJvdW5kIiwgImxpbmVKb2luIjogInJvdW5kIiwgIm9wYWNpdHkiOiAxLjAsICJyYWRpdXMiOiA1LCAic3Ryb2tlIjogdHJ1ZSwgIndlaWdodCI6IDN9CiAgICAgICAgICAgICkuYWRkVG8obWFwX2RmNmQwMDY2Nzk0YzRlMmNhOGExZWRkNmU0MTA3ZTRhKTsKICAgICAgICAKICAgIAogICAgICAgIHZhciBwb3B1cF9hM2U3ZmJmZWYxZDg0ZjFiOWJlMWY3M2ExMmE2ZWRmYyA9IEwucG9wdXAoeyJtYXhXaWR0aCI6ICIxMDAlIn0pOwoKICAgICAgICAKICAgICAgICAgICAgdmFyIGh0bWxfNjhjOTAyYzFkOTAzNDFlMzlkZWNkZmM5NTVjMGFiOGIgPSAkKGA8ZGl2IGlkPSJodG1sXzY4YzkwMmMxZDkwMzQxZTM5ZGVjZGZjOTU1YzBhYjhiIiBzdHlsZT0id2lkdGg6IDEwMC4wJTsgaGVpZ2h0OiAxMDAuMCU7Ij4gQ2x1c3RlciAzPC9kaXY+YClbMF07CiAgICAgICAgICAgIHBvcHVwX2EzZTdmYmZlZjFkODRmMWI5YmUxZjczYTEyYTZlZGZjLnNldENvbnRlbnQoaHRtbF82OGM5MDJjMWQ5MDM0MWUzOWRlY2RmYzk1NWMwYWI4Yik7CiAgICAgICAgCgogICAgICAgIGNpcmNsZV9tYXJrZXJfNDY2MTNhMjcyNzM5NGJjZDhhM2Y0ZjYyNmU0MGM2ZTcuYmluZFBvcHVwKHBvcHVwX2EzZTdmYmZlZjFkODRmMWI5YmUxZjczYTEyYTZlZGZjKQogICAgICAgIDsKCiAgICAgICAgCiAgICAKICAgIAogICAgICAgICAgICB2YXIgY2lyY2xlX21hcmtlcl8zMjlhZjBiNDNlOTU0N2RhYjA1NjM1MDMyMDMyZmNmMyA9IEwuY2lyY2xlTWFya2VyKAogICAgICAgICAgICAgICAgWzQzLjY4NjQxMjI5OTk5OTk5LCAtNzkuNDAwMDQ5M10sCiAgICAgICAgICAgICAgICB7ImJ1YmJsaW5nTW91c2VFdmVudHMiOiB0cnVlLCAiY29sb3IiOiAiIzAwYjVlYiIsICJkYXNoQXJyYXkiOiBudWxsLCAiZGFzaE9mZnNldCI6IG51bGwsICJmaWxsIjogdHJ1ZSwgImZpbGxDb2xvciI6ICIjMDBiNWViIiwgImZpbGxPcGFjaXR5IjogMC43LCAiZmlsbFJ1bGUiOiAiZXZlbm9kZCIsICJsaW5lQ2FwIjogInJvdW5kIiwgImxpbmVKb2luIjogInJvdW5kIiwgIm9wYWNpdHkiOiAxLjAsICJyYWRpdXMiOiA1LCAic3Ryb2tlIjogdHJ1ZSwgIndlaWdodCI6IDN9CiAgICAgICAgICAgICkuYWRkVG8obWFwX2RmNmQwMDY2Nzk0YzRlMmNhOGExZWRkNmU0MTA3ZTRhKTsKICAgICAgICAKICAgIAogICAgICAgIHZhciBwb3B1cF82MWM3YzM3Zjg5OTg0NDU3OTVlYzIwMTQ0OWVjN2I4YiA9IEwucG9wdXAoeyJtYXhXaWR0aCI6ICIxMDAlIn0pOwoKICAgICAgICAKICAgICAgICAgICAgdmFyIGh0bWxfNDI3ZTc0MThiODczNDg3ZGJhNjZhNjc3YzlhZmU4MmEgPSAkKGA8ZGl2IGlkPSJodG1sXzQyN2U3NDE4Yjg3MzQ4N2RiYTY2YTY3N2M5YWZlODJhIiBzdHlsZT0id2lkdGg6IDEwMC4wJTsgaGVpZ2h0OiAxMDAuMCU7Ij4gQ2x1c3RlciAyPC9kaXY+YClbMF07CiAgICAgICAgICAgIHBvcHVwXzYxYzdjMzdmODk5ODQ0NTc5NWVjMjAxNDQ5ZWM3YjhiLnNldENvbnRlbnQoaHRtbF80MjdlNzQxOGI4NzM0ODdkYmE2NmE2NzdjOWFmZTgyYSk7CiAgICAgICAgCgogICAgICAgIGNpcmNsZV9tYXJrZXJfMzI5YWYwYjQzZTk1NDdkYWIwNTYzNTAzMjAzMmZjZjMuYmluZFBvcHVwKHBvcHVwXzYxYzdjMzdmODk5ODQ0NTc5NWVjMjAxNDQ5ZWM3YjhiKQogICAgICAgIDsKCiAgICAgICAgCiAgICAKICAgIAogICAgICAgICAgICB2YXIgY2lyY2xlX21hcmtlcl8wMjkwNzlmMDU0NmM0ZjNmYmY5ZTVmNzZmMGE3NWQxMiA9IEwuY2lyY2xlTWFya2VyKAogICAgICAgICAgICAgICAgWzQzLjYyODk0NjcsIC03OS4zOTQ0MTk5XSwKICAgICAgICAgICAgICAgIHsiYnViYmxpbmdNb3VzZUV2ZW50cyI6IHRydWUsICJjb2xvciI6ICIjZmYwMDAwIiwgImRhc2hBcnJheSI6IG51bGwsICJkYXNoT2Zmc2V0IjogbnVsbCwgImZpbGwiOiB0cnVlLCAiZmlsbENvbG9yIjogIiNmZjAwMDAiLCAiZmlsbE9wYWNpdHkiOiAwLjcsICJmaWxsUnVsZSI6ICJldmVub2RkIiwgImxpbmVDYXAiOiAicm91bmQiLCAibGluZUpvaW4iOiAicm91bmQiLCAib3BhY2l0eSI6IDEuMCwgInJhZGl1cyI6IDUsICJzdHJva2UiOiB0cnVlLCAid2VpZ2h0IjogM30KICAgICAgICAgICAgKS5hZGRUbyhtYXBfZGY2ZDAwNjY3OTRjNGUyY2E4YTFlZGQ2ZTQxMDdlNGEpOwogICAgICAgIAogICAgCiAgICAgICAgdmFyIHBvcHVwXzAyMzFmMDY2MTU0ZjQ1YmNiZTkzZDgzOTM2MDNlYmY0ID0gTC5wb3B1cCh7Im1heFdpZHRoIjogIjEwMCUifSk7CgogICAgICAgIAogICAgICAgICAgICB2YXIgaHRtbF9jYjBhMTZjZTQzZWE0YThjYTRiZWI4YmNkNDI0M2EzZCA9ICQoYDxkaXYgaWQ9Imh0bWxfY2IwYTE2Y2U0M2VhNGE4Y2E0YmViOGJjZDQyNDNhM2QiIHN0eWxlPSJ3aWR0aDogMTAwLjAlOyBoZWlnaHQ6IDEwMC4wJTsiPiBDbHVzdGVyIDA8L2Rpdj5gKVswXTsKICAgICAgICAgICAgcG9wdXBfMDIzMWYwNjYxNTRmNDViY2JlOTNkODM5MzYwM2ViZjQuc2V0Q29udGVudChodG1sX2NiMGExNmNlNDNlYTRhOGNhNGJlYjhiY2Q0MjQzYTNkKTsKICAgICAgICAKCiAgICAgICAgY2lyY2xlX21hcmtlcl8wMjkwNzlmMDU0NmM0ZjNmYmY5ZTVmNzZmMGE3NWQxMi5iaW5kUG9wdXAocG9wdXBfMDIzMWYwNjYxNTRmNDViY2JlOTNkODM5MzYwM2ViZjQpCiAgICAgICAgOwoKICAgICAgICAKICAgIAogICAgCiAgICAgICAgICAgIHZhciBjaXJjbGVfbWFya2VyXzgwNDE0ZDQzYTY4NTQyODZiZjAwZWE1MjU3ZGNjZDM4ID0gTC5jaXJjbGVNYXJrZXIoCiAgICAgICAgICAgICAgICBbNDMuNjc5NTYyNiwgLTc5LjM3NzUyOTQwMDAwMDAxXSwKICAgICAgICAgICAgICAgIHsiYnViYmxpbmdNb3VzZUV2ZW50cyI6IHRydWUsICJjb2xvciI6ICIjZmYwMDAwIiwgImRhc2hBcnJheSI6IG51bGwsICJkYXNoT2Zmc2V0IjogbnVsbCwgImZpbGwiOiB0cnVlLCAiZmlsbENvbG9yIjogIiNmZjAwMDAiLCAiZmlsbE9wYWNpdHkiOiAwLjcsICJmaWxsUnVsZSI6ICJldmVub2RkIiwgImxpbmVDYXAiOiAicm91bmQiLCAibGluZUpvaW4iOiAicm91bmQiLCAib3BhY2l0eSI6IDEuMCwgInJhZGl1cyI6IDUsICJzdHJva2UiOiB0cnVlLCAid2VpZ2h0IjogM30KICAgICAgICAgICAgKS5hZGRUbyhtYXBfZGY2ZDAwNjY3OTRjNGUyY2E4YTFlZGQ2ZTQxMDdlNGEpOwogICAgICAgIAogICAgCiAgICAgICAgdmFyIHBvcHVwXzJhZGI5ZTFkY2E0ZTQxNDg4NWZkZTJiN2E0ZDFmNmE4ID0gTC5wb3B1cCh7Im1heFdpZHRoIjogIjEwMCUifSk7CgogICAgICAgIAogICAgICAgICAgICB2YXIgaHRtbF82OTc0ZGIxNjFjYTE0YjE4ODhmMDgzNDQ5OGYyNmIzOCA9ICQoYDxkaXYgaWQ9Imh0bWxfNjk3NGRiMTYxY2ExNGIxODg4ZjA4MzQ0OThmMjZiMzgiIHN0eWxlPSJ3aWR0aDogMTAwLjAlOyBoZWlnaHQ6IDEwMC4wJTsiPiBDbHVzdGVyIDA8L2Rpdj5gKVswXTsKICAgICAgICAgICAgcG9wdXBfMmFkYjllMWRjYTRlNDE0ODg1ZmRlMmI3YTRkMWY2YTguc2V0Q29udGVudChodG1sXzY5NzRkYjE2MWNhMTRiMTg4OGYwODM0NDk4ZjI2YjM4KTsKICAgICAgICAKCiAgICAgICAgY2lyY2xlX21hcmtlcl84MDQxNGQ0M2E2ODU0Mjg2YmYwMGVhNTI1N2RjY2QzOC5iaW5kUG9wdXAocG9wdXBfMmFkYjllMWRjYTRlNDE0ODg1ZmRlMmI3YTRkMWY2YTgpCiAgICAgICAgOwoKICAgICAgICAKICAgIAogICAgCiAgICAgICAgICAgIHZhciBjaXJjbGVfbWFya2VyXzAwOWFjZGQyNDIxZTRmZDdhMzVmOTNkNDQ3NzBhNDE5ID0gTC5jaXJjbGVNYXJrZXIoCiAgICAgICAgICAgICAgICBbNDMuNjQ2NDM1MiwgLTc5LjM3NDg0NTk5OTk5OTk5XSwKICAgICAgICAgICAgICAgIHsiYnViYmxpbmdNb3VzZUV2ZW50cyI6IHRydWUsICJjb2xvciI6ICIjZmYwMDAwIiwgImRhc2hBcnJheSI6IG51bGwsICJkYXNoT2Zmc2V0IjogbnVsbCwgImZpbGwiOiB0cnVlLCAiZmlsbENvbG9yIjogIiNmZjAwMDAiLCAiZmlsbE9wYWNpdHkiOiAwLjcsICJmaWxsUnVsZSI6ICJldmVub2RkIiwgImxpbmVDYXAiOiAicm91bmQiLCAibGluZUpvaW4iOiAicm91bmQiLCAib3BhY2l0eSI6IDEuMCwgInJhZGl1cyI6IDUsICJzdHJva2UiOiB0cnVlLCAid2VpZ2h0IjogM30KICAgICAgICAgICAgKS5hZGRUbyhtYXBfZGY2ZDAwNjY3OTRjNGUyY2E4YTFlZGQ2ZTQxMDdlNGEpOwogICAgICAgIAogICAgCiAgICAgICAgdmFyIHBvcHVwX2E5M2Q0ZmRjNGU4ODQ3YjdiNjVlNzc1ZGFiOGRiMmU4ID0gTC5wb3B1cCh7Im1heFdpZHRoIjogIjEwMCUifSk7CgogICAgICAgIAogICAgICAgICAgICB2YXIgaHRtbF9jNGMyNTJmYTc2Njk0MTViYjg1MjVkYmQ1YjU2MWI3YiA9ICQoYDxkaXYgaWQ9Imh0bWxfYzRjMjUyZmE3NjY5NDE1YmI4NTI1ZGJkNWI1NjFiN2IiIHN0eWxlPSJ3aWR0aDogMTAwLjAlOyBoZWlnaHQ6IDEwMC4wJTsiPiBDbHVzdGVyIDA8L2Rpdj5gKVswXTsKICAgICAgICAgICAgcG9wdXBfYTkzZDRmZGM0ZTg4NDdiN2I2NWU3NzVkYWI4ZGIyZTguc2V0Q29udGVudChodG1sX2M0YzI1MmZhNzY2OTQxNWJiODUyNWRiZDViNTYxYjdiKTsKICAgICAgICAKCiAgICAgICAgY2lyY2xlX21hcmtlcl8wMDlhY2RkMjQyMWU0ZmQ3YTM1ZjkzZDQ0NzcwYTQxOS5iaW5kUG9wdXAocG9wdXBfYTkzZDRmZGM0ZTg4NDdiN2I2NWU3NzVkYWI4ZGIyZTgpCiAgICAgICAgOwoKICAgICAgICAKICAgIAogICAgCiAgICAgICAgICAgIHZhciBjaXJjbGVfbWFya2VyXzY0NjdhOGY1YTYwNjQyMzc4MDMwNDhhNTY0ZWMxOGY1ID0gTC5jaXJjbGVNYXJrZXIoCiAgICAgICAgICAgICAgICBbNDMuNjY3OTY3LCAtNzkuMzY3Njc1M10sCiAgICAgICAgICAgICAgICB7ImJ1YmJsaW5nTW91c2VFdmVudHMiOiB0cnVlLCAiY29sb3IiOiAiI2ZmMDAwMCIsICJkYXNoQXJyYXkiOiBudWxsLCAiZGFzaE9mZnNldCI6IG51bGwsICJmaWxsIjogdHJ1ZSwgImZpbGxDb2xvciI6ICIjZmYwMDAwIiwgImZpbGxPcGFjaXR5IjogMC43LCAiZmlsbFJ1bGUiOiAiZXZlbm9kZCIsICJsaW5lQ2FwIjogInJvdW5kIiwgImxpbmVKb2luIjogInJvdW5kIiwgIm9wYWNpdHkiOiAxLjAsICJyYWRpdXMiOiA1LCAic3Ryb2tlIjogdHJ1ZSwgIndlaWdodCI6IDN9CiAgICAgICAgICAgICkuYWRkVG8obWFwX2RmNmQwMDY2Nzk0YzRlMmNhOGExZWRkNmU0MTA3ZTRhKTsKICAgICAgICAKICAgIAogICAgICAgIHZhciBwb3B1cF9kYWYxMTAzMDIwZGI0Njc0YjA5YWJmYWRiOTExMTQ0ZiA9IEwucG9wdXAoeyJtYXhXaWR0aCI6ICIxMDAlIn0pOwoKICAgICAgICAKICAgICAgICAgICAgdmFyIGh0bWxfMzZmYzcyY2I0MTI0NDhjZTgzNzA5MWRjZTg0ZWIzYWYgPSAkKGA8ZGl2IGlkPSJodG1sXzM2ZmM3MmNiNDEyNDQ4Y2U4MzcwOTFkY2U4NGViM2FmIiBzdHlsZT0id2lkdGg6IDEwMC4wJTsgaGVpZ2h0OiAxMDAuMCU7Ij4gQ2x1c3RlciAwPC9kaXY+YClbMF07CiAgICAgICAgICAgIHBvcHVwX2RhZjExMDMwMjBkYjQ2NzRiMDlhYmZhZGI5MTExNDRmLnNldENvbnRlbnQoaHRtbF8zNmZjNzJjYjQxMjQ0OGNlODM3MDkxZGNlODRlYjNhZik7CiAgICAgICAgCgogICAgICAgIGNpcmNsZV9tYXJrZXJfNjQ2N2E4ZjVhNjA2NDIzNzgwMzA0OGE1NjRlYzE4ZjUuYmluZFBvcHVwKHBvcHVwX2RhZjExMDMwMjBkYjQ2NzRiMDlhYmZhZGI5MTExNDRmKQogICAgICAgIDsKCiAgICAgICAgCiAgICAKICAgIAogICAgICAgICAgICB2YXIgY2lyY2xlX21hcmtlcl9kOTYxZDFmN2MyZDE0MGYxODVmZjYwNWE3NGZjODdjYiA9IEwuY2lyY2xlTWFya2VyKAogICAgICAgICAgICAgICAgWzQzLjY0ODQyOTIsIC03OS4zODIyODAyXSwKICAgICAgICAgICAgICAgIHsiYnViYmxpbmdNb3VzZUV2ZW50cyI6IHRydWUsICJjb2xvciI6ICIjZmYwMDAwIiwgImRhc2hBcnJheSI6IG51bGwsICJkYXNoT2Zmc2V0IjogbnVsbCwgImZpbGwiOiB0cnVlLCAiZmlsbENvbG9yIjogIiNmZjAwMDAiLCAiZmlsbE9wYWNpdHkiOiAwLjcsICJmaWxsUnVsZSI6ICJldmVub2RkIiwgImxpbmVDYXAiOiAicm91bmQiLCAibGluZUpvaW4iOiAicm91bmQiLCAib3BhY2l0eSI6IDEuMCwgInJhZGl1cyI6IDUsICJzdHJva2UiOiB0cnVlLCAid2VpZ2h0IjogM30KICAgICAgICAgICAgKS5hZGRUbyhtYXBfZGY2ZDAwNjY3OTRjNGUyY2E4YTFlZGQ2ZTQxMDdlNGEpOwogICAgICAgIAogICAgCiAgICAgICAgdmFyIHBvcHVwXzBlMWY3YmViMWQzNTQxNTY4MTEzYmFjZGUzNGVmZjYxID0gTC5wb3B1cCh7Im1heFdpZHRoIjogIjEwMCUifSk7CgogICAgICAgIAogICAgICAgICAgICB2YXIgaHRtbF9kZDEzOTI4NjNkODU0ZmEyODA5ZmU4NTVhMmM2MzdjNCA9ICQoYDxkaXYgaWQ9Imh0bWxfZGQxMzkyODYzZDg1NGZhMjgwOWZlODU1YTJjNjM3YzQiIHN0eWxlPSJ3aWR0aDogMTAwLjAlOyBoZWlnaHQ6IDEwMC4wJTsiPiBDbHVzdGVyIDA8L2Rpdj5gKVswXTsKICAgICAgICAgICAgcG9wdXBfMGUxZjdiZWIxZDM1NDE1NjgxMTNiYWNkZTM0ZWZmNjEuc2V0Q29udGVudChodG1sX2RkMTM5Mjg2M2Q4NTRmYTI4MDlmZTg1NWEyYzYzN2M0KTsKICAgICAgICAKCiAgICAgICAgY2lyY2xlX21hcmtlcl9kOTYxZDFmN2MyZDE0MGYxODVmZjYwNWE3NGZjODdjYi5iaW5kUG9wdXAocG9wdXBfMGUxZjdiZWIxZDM1NDE1NjgxMTNiYWNkZTM0ZWZmNjEpCiAgICAgICAgOwoKICAgICAgICAKICAgIAogICAgCiAgICAgICAgICAgIHZhciBjaXJjbGVfbWFya2VyXzdmM2IwYjAzZmU5YjQyYTQ4NmU2N2VjYTE4OWU1NmY3ID0gTC5jaXJjbGVNYXJrZXIoCiAgICAgICAgICAgICAgICBbNDMuNjY1ODU5OSwgLTc5LjM4MzE1OTkwMDAwMDAxXSwKICAgICAgICAgICAgICAgIHsiYnViYmxpbmdNb3VzZUV2ZW50cyI6IHRydWUsICJjb2xvciI6ICIjZmYwMDAwIiwgImRhc2hBcnJheSI6IG51bGwsICJkYXNoT2Zmc2V0IjogbnVsbCwgImZpbGwiOiB0cnVlLCAiZmlsbENvbG9yIjogIiNmZjAwMDAiLCAiZmlsbE9wYWNpdHkiOiAwLjcsICJmaWxsUnVsZSI6ICJldmVub2RkIiwgImxpbmVDYXAiOiAicm91bmQiLCAibGluZUpvaW4iOiAicm91bmQiLCAib3BhY2l0eSI6IDEuMCwgInJhZGl1cyI6IDUsICJzdHJva2UiOiB0cnVlLCAid2VpZ2h0IjogM30KICAgICAgICAgICAgKS5hZGRUbyhtYXBfZGY2ZDAwNjY3OTRjNGUyY2E4YTFlZGQ2ZTQxMDdlNGEpOwogICAgICAgIAogICAgCiAgICAgICAgdmFyIHBvcHVwX2FlYWY3ODVmNDZhNTQ5NmQ5MGE4NjQzMjFmNzM1OGUwID0gTC5wb3B1cCh7Im1heFdpZHRoIjogIjEwMCUifSk7CgogICAgICAgIAogICAgICAgICAgICB2YXIgaHRtbF9kMGQyM2QzYWQzNjc0N2I2OGRlYzkzMWVmMTRkNThmYiA9ICQoYDxkaXYgaWQ9Imh0bWxfZDBkMjNkM2FkMzY3NDdiNjhkZWM5MzFlZjE0ZDU4ZmIiIHN0eWxlPSJ3aWR0aDogMTAwLjAlOyBoZWlnaHQ6IDEwMC4wJTsiPiBDbHVzdGVyIDA8L2Rpdj5gKVswXTsKICAgICAgICAgICAgcG9wdXBfYWVhZjc4NWY0NmE1NDk2ZDkwYTg2NDMyMWY3MzU4ZTAuc2V0Q29udGVudChodG1sX2QwZDIzZDNhZDM2NzQ3YjY4ZGVjOTMxZWYxNGQ1OGZiKTsKICAgICAgICAKCiAgICAgICAgY2lyY2xlX21hcmtlcl83ZjNiMGIwM2ZlOWI0MmE0ODZlNjdlY2ExODllNTZmNy5iaW5kUG9wdXAocG9wdXBfYWVhZjc4NWY0NmE1NDk2ZDkwYTg2NDMyMWY3MzU4ZTApCiAgICAgICAgOwoKICAgICAgICAKICAgIAogICAgCiAgICAgICAgICAgIHZhciBjaXJjbGVfbWFya2VyXzc0ZGY5ZWMzNmE1MTQ0OWE4M2U5ZTA0MjU3YzUxOTkzID0gTC5jaXJjbGVNYXJrZXIoCiAgICAgICAgICAgICAgICBbNDMuNjYyNzQzOSwgLTc5LjMyMTU1OF0sCiAgICAgICAgICAgICAgICB7ImJ1YmJsaW5nTW91c2VFdmVudHMiOiB0cnVlLCAiY29sb3IiOiAiI2ZmYjM2MCIsICJkYXNoQXJyYXkiOiBudWxsLCAiZGFzaE9mZnNldCI6IG51bGwsICJmaWxsIjogdHJ1ZSwgImZpbGxDb2xvciI6ICIjZmZiMzYwIiwgImZpbGxPcGFjaXR5IjogMC43LCAiZmlsbFJ1bGUiOiAiZXZlbm9kZCIsICJsaW5lQ2FwIjogInJvdW5kIiwgImxpbmVKb2luIjogInJvdW5kIiwgIm9wYWNpdHkiOiAxLjAsICJyYWRpdXMiOiA1LCAic3Ryb2tlIjogdHJ1ZSwgIndlaWdodCI6IDN9CiAgICAgICAgICAgICkuYWRkVG8obWFwX2RmNmQwMDY2Nzk0YzRlMmNhOGExZWRkNmU0MTA3ZTRhKTsKICAgICAgICAKICAgIAogICAgICAgIHZhciBwb3B1cF81MDdmODY0NDBmNmI0MzI2OGJiMmY0ZjZhN2MwNjlmZCA9IEwucG9wdXAoeyJtYXhXaWR0aCI6ICIxMDAlIn0pOwoKICAgICAgICAKICAgICAgICAgICAgdmFyIGh0bWxfYWJiNWEwNzQ0MTAyNGM5YTk3Mzg5ZTdlZmNmZjcyMGIgPSAkKGA8ZGl2IGlkPSJodG1sX2FiYjVhMDc0NDEwMjRjOWE5NzM4OWU3ZWZjZmY3MjBiIiBzdHlsZT0id2lkdGg6IDEwMC4wJTsgaGVpZ2h0OiAxMDAuMCU7Ij4gQ2x1c3RlciA0PC9kaXY+YClbMF07CiAgICAgICAgICAgIHBvcHVwXzUwN2Y4NjQ0MGY2YjQzMjY4YmIyZjRmNmE3YzA2OWZkLnNldENvbnRlbnQoaHRtbF9hYmI1YTA3NDQxMDI0YzlhOTczODllN2VmY2ZmNzIwYik7CiAgICAgICAgCgogICAgICAgIGNpcmNsZV9tYXJrZXJfNzRkZjllYzM2YTUxNDQ5YTgzZTllMDQyNTdjNTE5OTMuYmluZFBvcHVwKHBvcHVwXzUwN2Y4NjQ0MGY2YjQzMjY4YmIyZjRmNmE3YzA2OWZkKQogICAgICAgIDsKCiAgICAgICAgCiAgICAKPC9zY3JpcHQ+ onload=\"this.contentDocument.open();this.contentDocument.write(atob(this.getAttribute('data-html')));this.contentDocument.close();\" allowfullscreen webkitallowfullscreen mozallowfullscreen></iframe></div></div>"
      ],
      "text/plain": [
       "<folium.folium.Map at 0x1a1a199390>"
      ]
     },
     "execution_count": 51,
     "metadata": {},
     "output_type": "execute_result"
    }
   ],
   "source": [
    "# create map\n",
    "map_clusters = folium.Map(location=[latitude,longitude],zoom_start=10)\n",
    "\n",
    "# set color scheme for the clusters\n",
    "x = np.arange(k)\n",
    "ys = [i + x + (i*x)**2 for i in range(k)]\n",
    "colors_array = cm.rainbow(np.linspace(0, 1, len(ys)))\n",
    "rainbow = [colors.rgb2hex(i) for i in colors_array]\n",
    "\n",
    "# add markers to the map\n",
    "markers_colors = []\n",
    "for lat, lon, neighborhood, cluster in zip(Toronto['Latitude'], Toronto['Longitude'], Toronto['Neighborhood'], Toronto['Cluster Labels']):\n",
    "    label = folium.Popup(' Cluster ' + str(cluster), parse_html=True)\n",
    "    folium.CircleMarker(\n",
    "        [lat, lon],\n",
    "        radius=5,\n",
    "        popup=label,\n",
    "        color=rainbow[cluster-1],\n",
    "        fill=True,\n",
    "        fill_color=rainbow[cluster-1],\n",
    "        fill_opacity=0.7).add_to(map_clusters)\n",
    "       \n",
    "map_clusters"
   ]
  },
  {
   "cell_type": "code",
   "execution_count": null,
   "metadata": {},
   "outputs": [],
   "source": []
  }
 ],
 "metadata": {
  "kernelspec": {
   "display_name": "Python 3",
   "language": "python",
   "name": "python3"
  },
  "language_info": {
   "codemirror_mode": {
    "name": "ipython",
    "version": 3
   },
   "file_extension": ".py",
   "mimetype": "text/x-python",
   "name": "python",
   "nbconvert_exporter": "python",
   "pygments_lexer": "ipython3",
   "version": "3.7.4"
  }
 },
 "nbformat": 4,
 "nbformat_minor": 2
}
